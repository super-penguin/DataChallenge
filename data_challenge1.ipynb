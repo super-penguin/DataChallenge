{
 "cells": [
  {
   "cell_type": "markdown",
   "metadata": {
    "colab_type": "text",
    "id": "apHUHsnfe5Tu"
   },
   "source": [
    "# Data Challenge: Predict Breast Cancer Cell\n",
    "---\n",
    "\n",
    "## **Introduction**\n",
    "\n",
    "Breast Cancer Wisconsin Data Set are the measurements of cancer cell samples from Dr.Wolberg's clinical cases. In this dataset, the cells are categorized into 2 classes: benign and malignant. Each cell in the dataset has an ID number and 9 different biological measurements. All the measurements were assgined with a value range from 0-10.\n",
    "\n",
    "The goal of this project is to build an efficient classifier to classify the breast cancer cell given the biological measurements.\n",
    "\n",
    "###Approach\n",
    "\n",
    "As a classification problem with small sample size, I would like to try Support vector machines (SVCs), Naive Bayes and K Nearest Neighbors (KNN), and evaluate them to pick the most appropiate one for this dataset.\n",
    "\n",
    "---\n",
    "## Step 1: data cleaning"
   ]
  },
  {
   "cell_type": "code",
   "execution_count": 0,
   "metadata": {
    "colab": {
     "base_uri": "https://localhost:8080/",
     "height": 122
    },
    "colab_type": "code",
    "executionInfo": {
     "elapsed": 31154,
     "status": "ok",
     "timestamp": 1562127332657,
     "user": {
      "displayName": "Penny Gao",
      "photoUrl": "https://lh3.googleusercontent.com/-gQzVWxqbnp4/AAAAAAAAAAI/AAAAAAAAAHc/n3xQplCzb_Q/s64/photo.jpg",
      "userId": "16943984884699102557"
     },
     "user_tz": 420
    },
    "id": "9lDoHBWmfLXl",
    "outputId": "f5d633b1-e4df-45a7-a791-c75cb07c9467"
   },
   "outputs": [
    {
     "name": "stdout",
     "output_type": "stream",
     "text": [
      "Go to this URL in a browser: https://accounts.google.com/o/oauth2/auth?client_id=947318989803-6bn6qk8qdgf4n4g3pfee6491hc0brc4i.apps.googleusercontent.com&redirect_uri=urn%3Aietf%3Awg%3Aoauth%3A2.0%3Aoob&scope=email%20https%3A%2F%2Fwww.googleapis.com%2Fauth%2Fdocs.test%20https%3A%2F%2Fwww.googleapis.com%2Fauth%2Fdrive%20https%3A%2F%2Fwww.googleapis.com%2Fauth%2Fdrive.photos.readonly%20https%3A%2F%2Fwww.googleapis.com%2Fauth%2Fpeopleapi.readonly&response_type=code\n",
      "\n",
      "Enter your authorization code:\n",
      "··········\n",
      "Mounted at /content/drive\n"
     ]
    }
   ],
   "source": [
    "# Run this cell to mount your Google Drive.\n",
    "from google.colab import drive\n",
    "drive.mount('/content/drive')"
   ]
  },
  {
   "cell_type": "code",
   "execution_count": 0,
   "metadata": {
    "colab": {},
    "colab_type": "code",
    "id": "xpANJBgNd9jh"
   },
   "outputs": [],
   "source": [
    "import pandas as pd\n",
    "import seaborn as sns\n",
    "import matplotlib.pyplot as plt\n"
   ]
  },
  {
   "cell_type": "code",
   "execution_count": 0,
   "metadata": {
    "colab": {
     "base_uri": "https://localhost:8080/",
     "height": 34
    },
    "colab_type": "code",
    "executionInfo": {
     "elapsed": 353,
     "status": "ok",
     "timestamp": 1562129923786,
     "user": {
      "displayName": "Penny Gao",
      "photoUrl": "https://lh3.googleusercontent.com/-gQzVWxqbnp4/AAAAAAAAAAI/AAAAAAAAAHc/n3xQplCzb_Q/s64/photo.jpg",
      "userId": "16943984884699102557"
     },
     "user_tz": 420
    },
    "id": "WC3GwESSMYRW",
    "outputId": "a3e1f47d-2203-435f-f2f8-9715b3b1bac9"
   },
   "outputs": [
    {
     "name": "stdout",
     "output_type": "stream",
     "text": [
      "/content/drive/My Drive/Data_challenge\n"
     ]
    }
   ],
   "source": [
    "\n",
    "%cd drive/My Drive/Data_challenge"
   ]
  },
  {
   "cell_type": "markdown",
   "metadata": {
    "colab_type": "text",
    "id": "4iubqf9UjhYz"
   },
   "source": [
    "### 1-1: Load the dataset into pandas dataframe"
   ]
  },
  {
   "cell_type": "code",
   "execution_count": 0,
   "metadata": {
    "colab": {
     "base_uri": "https://localhost:8080/",
     "height": 359
    },
    "colab_type": "code",
    "executionInfo": {
     "elapsed": 645,
     "status": "ok",
     "timestamp": 1562129948701,
     "user": {
      "displayName": "Penny Gao",
      "photoUrl": "https://lh3.googleusercontent.com/-gQzVWxqbnp4/AAAAAAAAAAI/AAAAAAAAAHc/n3xQplCzb_Q/s64/photo.jpg",
      "userId": "16943984884699102557"
     },
     "user_tz": 420
    },
    "id": "twzIgMmnhfae",
    "outputId": "34e93e3d-0c2c-40c6-b98d-7c7d19fa0527"
   },
   "outputs": [
    {
     "data": {
      "text/html": [
       "<div>\n",
       "<style scoped>\n",
       "    .dataframe tbody tr th:only-of-type {\n",
       "        vertical-align: middle;\n",
       "    }\n",
       "\n",
       "    .dataframe tbody tr th {\n",
       "        vertical-align: top;\n",
       "    }\n",
       "\n",
       "    .dataframe thead th {\n",
       "        text-align: right;\n",
       "    }\n",
       "</style>\n",
       "<table border=\"1\" class=\"dataframe\">\n",
       "  <thead>\n",
       "    <tr style=\"text-align: right;\">\n",
       "      <th></th>\n",
       "      <th>ID</th>\n",
       "      <th>Thickness</th>\n",
       "      <th>Cell_size</th>\n",
       "      <th>Cell_shape</th>\n",
       "      <th>M_adhesion</th>\n",
       "      <th>E_Size</th>\n",
       "      <th>Nuclei</th>\n",
       "      <th>Chromatin</th>\n",
       "      <th>Nucleoli</th>\n",
       "      <th>Mitoses</th>\n",
       "      <th>Class</th>\n",
       "    </tr>\n",
       "  </thead>\n",
       "  <tbody>\n",
       "    <tr>\n",
       "      <th>0</th>\n",
       "      <td>1000025</td>\n",
       "      <td>5</td>\n",
       "      <td>1</td>\n",
       "      <td>1</td>\n",
       "      <td>1</td>\n",
       "      <td>2</td>\n",
       "      <td>1</td>\n",
       "      <td>3</td>\n",
       "      <td>1</td>\n",
       "      <td>1</td>\n",
       "      <td>2</td>\n",
       "    </tr>\n",
       "    <tr>\n",
       "      <th>1</th>\n",
       "      <td>1002945</td>\n",
       "      <td>5</td>\n",
       "      <td>4</td>\n",
       "      <td>4</td>\n",
       "      <td>5</td>\n",
       "      <td>7</td>\n",
       "      <td>10</td>\n",
       "      <td>3</td>\n",
       "      <td>2</td>\n",
       "      <td>1</td>\n",
       "      <td>2</td>\n",
       "    </tr>\n",
       "    <tr>\n",
       "      <th>2</th>\n",
       "      <td>1015425</td>\n",
       "      <td>3</td>\n",
       "      <td>1</td>\n",
       "      <td>1</td>\n",
       "      <td>1</td>\n",
       "      <td>2</td>\n",
       "      <td>2</td>\n",
       "      <td>3</td>\n",
       "      <td>1</td>\n",
       "      <td>1</td>\n",
       "      <td>2</td>\n",
       "    </tr>\n",
       "    <tr>\n",
       "      <th>3</th>\n",
       "      <td>1016277</td>\n",
       "      <td>6</td>\n",
       "      <td>8</td>\n",
       "      <td>8</td>\n",
       "      <td>1</td>\n",
       "      <td>3</td>\n",
       "      <td>4</td>\n",
       "      <td>3</td>\n",
       "      <td>7</td>\n",
       "      <td>1</td>\n",
       "      <td>2</td>\n",
       "    </tr>\n",
       "    <tr>\n",
       "      <th>4</th>\n",
       "      <td>1017023</td>\n",
       "      <td>4</td>\n",
       "      <td>1</td>\n",
       "      <td>1</td>\n",
       "      <td>3</td>\n",
       "      <td>2</td>\n",
       "      <td>1</td>\n",
       "      <td>3</td>\n",
       "      <td>1</td>\n",
       "      <td>1</td>\n",
       "      <td>2</td>\n",
       "    </tr>\n",
       "    <tr>\n",
       "      <th>5</th>\n",
       "      <td>1017122</td>\n",
       "      <td>8</td>\n",
       "      <td>10</td>\n",
       "      <td>10</td>\n",
       "      <td>8</td>\n",
       "      <td>7</td>\n",
       "      <td>10</td>\n",
       "      <td>9</td>\n",
       "      <td>7</td>\n",
       "      <td>1</td>\n",
       "      <td>4</td>\n",
       "    </tr>\n",
       "    <tr>\n",
       "      <th>6</th>\n",
       "      <td>1018099</td>\n",
       "      <td>1</td>\n",
       "      <td>1</td>\n",
       "      <td>1</td>\n",
       "      <td>1</td>\n",
       "      <td>2</td>\n",
       "      <td>10</td>\n",
       "      <td>3</td>\n",
       "      <td>1</td>\n",
       "      <td>1</td>\n",
       "      <td>2</td>\n",
       "    </tr>\n",
       "    <tr>\n",
       "      <th>7</th>\n",
       "      <td>1018561</td>\n",
       "      <td>2</td>\n",
       "      <td>1</td>\n",
       "      <td>2</td>\n",
       "      <td>1</td>\n",
       "      <td>2</td>\n",
       "      <td>1</td>\n",
       "      <td>3</td>\n",
       "      <td>1</td>\n",
       "      <td>1</td>\n",
       "      <td>2</td>\n",
       "    </tr>\n",
       "    <tr>\n",
       "      <th>8</th>\n",
       "      <td>1033078</td>\n",
       "      <td>2</td>\n",
       "      <td>1</td>\n",
       "      <td>1</td>\n",
       "      <td>1</td>\n",
       "      <td>2</td>\n",
       "      <td>1</td>\n",
       "      <td>1</td>\n",
       "      <td>1</td>\n",
       "      <td>5</td>\n",
       "      <td>2</td>\n",
       "    </tr>\n",
       "    <tr>\n",
       "      <th>9</th>\n",
       "      <td>1033078</td>\n",
       "      <td>4</td>\n",
       "      <td>2</td>\n",
       "      <td>1</td>\n",
       "      <td>1</td>\n",
       "      <td>2</td>\n",
       "      <td>1</td>\n",
       "      <td>2</td>\n",
       "      <td>1</td>\n",
       "      <td>1</td>\n",
       "      <td>2</td>\n",
       "    </tr>\n",
       "  </tbody>\n",
       "</table>\n",
       "</div>"
      ],
      "text/plain": [
       "        ID  Thickness  Cell_size  ...  Nucleoli  Mitoses  Class\n",
       "0  1000025          5          1  ...         1        1      2\n",
       "1  1002945          5          4  ...         2        1      2\n",
       "2  1015425          3          1  ...         1        1      2\n",
       "3  1016277          6          8  ...         7        1      2\n",
       "4  1017023          4          1  ...         1        1      2\n",
       "5  1017122          8         10  ...         7        1      4\n",
       "6  1018099          1          1  ...         1        1      2\n",
       "7  1018561          2          1  ...         1        1      2\n",
       "8  1033078          2          1  ...         1        5      2\n",
       "9  1033078          4          2  ...         1        1      2\n",
       "\n",
       "[10 rows x 11 columns]"
      ]
     },
     "execution_count": 40,
     "metadata": {
      "tags": []
     },
     "output_type": "execute_result"
    }
   ],
   "source": [
    "data = pd.read_csv('breast-cancer-wisconsin.data', sep=\",\",\n",
    "                   names=[\"ID\", \"Thickness\", \"Cell_size\", \"Cell_shape\",\"M_adhesion\", \"E_Size\",\n",
    "                         \"Nuclei\", \"Chromatin\", \"Nucleoli\", \"Mitoses\", \"Class\"])\n",
    "\n",
    "data.head (n = 10)"
   ]
  },
  {
   "cell_type": "markdown",
   "metadata": {
    "colab_type": "text",
    "id": "jZC1RvIuHRIH"
   },
   "source": [
    "\n",
    "*   Explore the shape of the dataset"
   ]
  },
  {
   "cell_type": "code",
   "execution_count": 0,
   "metadata": {
    "colab": {
     "base_uri": "https://localhost:8080/",
     "height": 34
    },
    "colab_type": "code",
    "executionInfo": {
     "elapsed": 358,
     "status": "ok",
     "timestamp": 1562112178670,
     "user": {
      "displayName": "Penny Gao",
      "photoUrl": "https://lh3.googleusercontent.com/-gQzVWxqbnp4/AAAAAAAAAAI/AAAAAAAAAHc/n3xQplCzb_Q/s64/photo.jpg",
      "userId": "16943984884699102557"
     },
     "user_tz": 420
    },
    "id": "Ze9XtUvr7tmw",
    "outputId": "8004fa41-7852-4421-b903-644c8a0f79cc"
   },
   "outputs": [
    {
     "data": {
      "text/plain": [
       "(699, 11)"
      ]
     },
     "execution_count": 114,
     "metadata": {
      "tags": []
     },
     "output_type": "execute_result"
    }
   ],
   "source": [
    "data.shape"
   ]
  },
  {
   "cell_type": "markdown",
   "metadata": {
    "colab_type": "text",
    "id": "DNyrIh1jk6Aq"
   },
   "source": [
    "### 1-2: Check if there are any missing or strange values in the dataset"
   ]
  },
  {
   "cell_type": "code",
   "execution_count": 0,
   "metadata": {
    "colab": {
     "base_uri": "https://localhost:8080/",
     "height": 221
    },
    "colab_type": "code",
    "executionInfo": {
     "elapsed": 359,
     "status": "ok",
     "timestamp": 1562112180656,
     "user": {
      "displayName": "Penny Gao",
      "photoUrl": "https://lh3.googleusercontent.com/-gQzVWxqbnp4/AAAAAAAAAAI/AAAAAAAAAHc/n3xQplCzb_Q/s64/photo.jpg",
      "userId": "16943984884699102557"
     },
     "user_tz": 420
    },
    "id": "vMjz3PDNk9xY",
    "outputId": "f049bf0e-335b-4e93-c33f-f0d1f70f77f4"
   },
   "outputs": [
    {
     "data": {
      "text/plain": [
       "ID            0\n",
       "Thickness     0\n",
       "Cell_size     0\n",
       "Cell_shape    0\n",
       "M_adhesion    0\n",
       "E_Size        0\n",
       "Nuclei        0\n",
       "Chromatin     0\n",
       "Nucleoli      0\n",
       "Mitoses       0\n",
       "Class         0\n",
       "dtype: int64"
      ]
     },
     "execution_count": 115,
     "metadata": {
      "tags": []
     },
     "output_type": "execute_result"
    }
   ],
   "source": [
    "data.isnull().sum()"
   ]
  },
  {
   "cell_type": "markdown",
   "metadata": {
    "colab_type": "text",
    "id": "tKdyIei4ydc3"
   },
   "source": [
    "* Check if there are any other strange values in the dataset"
   ]
  },
  {
   "cell_type": "code",
   "execution_count": 0,
   "metadata": {
    "colab": {
     "base_uri": "https://localhost:8080/",
     "height": 170
    },
    "colab_type": "code",
    "executionInfo": {
     "elapsed": 324,
     "status": "ok",
     "timestamp": 1562112183169,
     "user": {
      "displayName": "Penny Gao",
      "photoUrl": "https://lh3.googleusercontent.com/-gQzVWxqbnp4/AAAAAAAAAAI/AAAAAAAAAHc/n3xQplCzb_Q/s64/photo.jpg",
      "userId": "16943984884699102557"
     },
     "user_tz": 420
    },
    "id": "o2VGXWJhxt1A",
    "outputId": "2bb1f44d-c0aa-4156-a5be-84703cba2f4a"
   },
   "outputs": [
    {
     "name": "stdout",
     "output_type": "stream",
     "text": [
      "Thickness :  [ 5  3  6  4  8  1  2  7 10  9]\n",
      "Cell_size :  [ 1  4  8 10  2  3  7  5  6  9]\n",
      "Cell_shape :  [ 1  4  8 10  2  3  5  6  7  9]\n",
      "M_adhesion :  [ 1  5  3  8 10  4  6  2  9  7]\n",
      "E_Size :  [ 2  7  3  1  6  4  5  8 10  9]\n",
      "Nuclei :  ['1' '10' '2' '4' '3' '9' '7' '?' '5' '8' '6']\n",
      "Chromatin :  [ 3  9  1  2  4  5  7  8  6 10]\n",
      "Nucleoli :  [ 1  2  7  4  5  3 10  6  9  8]\n",
      "Mitoses :  [ 1  5  4  2  3  7 10  8  6]\n"
     ]
    }
   ],
   "source": [
    "for item in data.columns:\n",
    "  if item != 'ID' and item!= 'Class':\n",
    "    print (item, \": \",(data[item].unique()))"
   ]
  },
  {
   "cell_type": "markdown",
   "metadata": {
    "colab_type": "text",
    "id": "99LG3ei-zMZr"
   },
   "source": [
    "**Problem**\n",
    "1.  The values in \"Nuclei\" are intepreted as string.\n",
    "2.  There is a string value \"?\" which needs to be removed from the dataset.\n",
    "\n",
    "\n",
    "* Check how many rows has \"Nuclei\" == \"?\""
   ]
  },
  {
   "cell_type": "code",
   "execution_count": 0,
   "metadata": {
    "colab": {
     "base_uri": "https://localhost:8080/",
     "height": 421
    },
    "colab_type": "code",
    "executionInfo": {
     "elapsed": 321,
     "status": "ok",
     "timestamp": 1562130828171,
     "user": {
      "displayName": "Penny Gao",
      "photoUrl": "https://lh3.googleusercontent.com/-gQzVWxqbnp4/AAAAAAAAAAI/AAAAAAAAAHc/n3xQplCzb_Q/s64/photo.jpg",
      "userId": "16943984884699102557"
     },
     "user_tz": 420
    },
    "id": "P3Yo6p16zLFU",
    "outputId": "139d5a11-4ca3-41ec-9eef-e5fbbe7cb851"
   },
   "outputs": [
    {
     "data": {
      "text/html": [
       "<div>\n",
       "<style scoped>\n",
       "    .dataframe tbody tr th:only-of-type {\n",
       "        vertical-align: middle;\n",
       "    }\n",
       "\n",
       "    .dataframe tbody tr th {\n",
       "        vertical-align: top;\n",
       "    }\n",
       "\n",
       "    .dataframe thead th {\n",
       "        text-align: right;\n",
       "    }\n",
       "</style>\n",
       "<table border=\"1\" class=\"dataframe\">\n",
       "  <thead>\n",
       "    <tr style=\"text-align: right;\">\n",
       "      <th></th>\n",
       "      <th>ID</th>\n",
       "      <th>Thickness</th>\n",
       "      <th>Cell_size</th>\n",
       "      <th>Cell_shape</th>\n",
       "      <th>M_adhesion</th>\n",
       "      <th>E_Size</th>\n",
       "      <th>Chromatin</th>\n",
       "      <th>Nucleoli</th>\n",
       "      <th>Mitoses</th>\n",
       "      <th>Class</th>\n",
       "    </tr>\n",
       "    <tr>\n",
       "      <th>Nuclei</th>\n",
       "      <th></th>\n",
       "      <th></th>\n",
       "      <th></th>\n",
       "      <th></th>\n",
       "      <th></th>\n",
       "      <th></th>\n",
       "      <th></th>\n",
       "      <th></th>\n",
       "      <th></th>\n",
       "      <th></th>\n",
       "    </tr>\n",
       "  </thead>\n",
       "  <tbody>\n",
       "    <tr>\n",
       "      <th>1</th>\n",
       "      <td>402</td>\n",
       "      <td>402</td>\n",
       "      <td>402</td>\n",
       "      <td>402</td>\n",
       "      <td>402</td>\n",
       "      <td>402</td>\n",
       "      <td>402</td>\n",
       "      <td>402</td>\n",
       "      <td>402</td>\n",
       "      <td>402</td>\n",
       "    </tr>\n",
       "    <tr>\n",
       "      <th>10</th>\n",
       "      <td>132</td>\n",
       "      <td>132</td>\n",
       "      <td>132</td>\n",
       "      <td>132</td>\n",
       "      <td>132</td>\n",
       "      <td>132</td>\n",
       "      <td>132</td>\n",
       "      <td>132</td>\n",
       "      <td>132</td>\n",
       "      <td>132</td>\n",
       "    </tr>\n",
       "    <tr>\n",
       "      <th>2</th>\n",
       "      <td>30</td>\n",
       "      <td>30</td>\n",
       "      <td>30</td>\n",
       "      <td>30</td>\n",
       "      <td>30</td>\n",
       "      <td>30</td>\n",
       "      <td>30</td>\n",
       "      <td>30</td>\n",
       "      <td>30</td>\n",
       "      <td>30</td>\n",
       "    </tr>\n",
       "    <tr>\n",
       "      <th>3</th>\n",
       "      <td>28</td>\n",
       "      <td>28</td>\n",
       "      <td>28</td>\n",
       "      <td>28</td>\n",
       "      <td>28</td>\n",
       "      <td>28</td>\n",
       "      <td>28</td>\n",
       "      <td>28</td>\n",
       "      <td>28</td>\n",
       "      <td>28</td>\n",
       "    </tr>\n",
       "    <tr>\n",
       "      <th>4</th>\n",
       "      <td>19</td>\n",
       "      <td>19</td>\n",
       "      <td>19</td>\n",
       "      <td>19</td>\n",
       "      <td>19</td>\n",
       "      <td>19</td>\n",
       "      <td>19</td>\n",
       "      <td>19</td>\n",
       "      <td>19</td>\n",
       "      <td>19</td>\n",
       "    </tr>\n",
       "    <tr>\n",
       "      <th>5</th>\n",
       "      <td>30</td>\n",
       "      <td>30</td>\n",
       "      <td>30</td>\n",
       "      <td>30</td>\n",
       "      <td>30</td>\n",
       "      <td>30</td>\n",
       "      <td>30</td>\n",
       "      <td>30</td>\n",
       "      <td>30</td>\n",
       "      <td>30</td>\n",
       "    </tr>\n",
       "    <tr>\n",
       "      <th>6</th>\n",
       "      <td>4</td>\n",
       "      <td>4</td>\n",
       "      <td>4</td>\n",
       "      <td>4</td>\n",
       "      <td>4</td>\n",
       "      <td>4</td>\n",
       "      <td>4</td>\n",
       "      <td>4</td>\n",
       "      <td>4</td>\n",
       "      <td>4</td>\n",
       "    </tr>\n",
       "    <tr>\n",
       "      <th>7</th>\n",
       "      <td>8</td>\n",
       "      <td>8</td>\n",
       "      <td>8</td>\n",
       "      <td>8</td>\n",
       "      <td>8</td>\n",
       "      <td>8</td>\n",
       "      <td>8</td>\n",
       "      <td>8</td>\n",
       "      <td>8</td>\n",
       "      <td>8</td>\n",
       "    </tr>\n",
       "    <tr>\n",
       "      <th>8</th>\n",
       "      <td>21</td>\n",
       "      <td>21</td>\n",
       "      <td>21</td>\n",
       "      <td>21</td>\n",
       "      <td>21</td>\n",
       "      <td>21</td>\n",
       "      <td>21</td>\n",
       "      <td>21</td>\n",
       "      <td>21</td>\n",
       "      <td>21</td>\n",
       "    </tr>\n",
       "    <tr>\n",
       "      <th>9</th>\n",
       "      <td>9</td>\n",
       "      <td>9</td>\n",
       "      <td>9</td>\n",
       "      <td>9</td>\n",
       "      <td>9</td>\n",
       "      <td>9</td>\n",
       "      <td>9</td>\n",
       "      <td>9</td>\n",
       "      <td>9</td>\n",
       "      <td>9</td>\n",
       "    </tr>\n",
       "    <tr>\n",
       "      <th>?</th>\n",
       "      <td>16</td>\n",
       "      <td>16</td>\n",
       "      <td>16</td>\n",
       "      <td>16</td>\n",
       "      <td>16</td>\n",
       "      <td>16</td>\n",
       "      <td>16</td>\n",
       "      <td>16</td>\n",
       "      <td>16</td>\n",
       "      <td>16</td>\n",
       "    </tr>\n",
       "  </tbody>\n",
       "</table>\n",
       "</div>"
      ],
      "text/plain": [
       "         ID  Thickness  Cell_size  ...  Nucleoli  Mitoses  Class\n",
       "Nuclei                             ...                          \n",
       "1       402        402        402  ...       402      402    402\n",
       "10      132        132        132  ...       132      132    132\n",
       "2        30         30         30  ...        30       30     30\n",
       "3        28         28         28  ...        28       28     28\n",
       "4        19         19         19  ...        19       19     19\n",
       "5        30         30         30  ...        30       30     30\n",
       "6         4          4          4  ...         4        4      4\n",
       "7         8          8          8  ...         8        8      8\n",
       "8        21         21         21  ...        21       21     21\n",
       "9         9          9          9  ...         9        9      9\n",
       "?        16         16         16  ...        16       16     16\n",
       "\n",
       "[11 rows x 10 columns]"
      ]
     },
     "execution_count": 44,
     "metadata": {
      "tags": []
     },
     "output_type": "execute_result"
    }
   ],
   "source": [
    "data.groupby(['Nuclei']).count()"
   ]
  },
  {
   "cell_type": "markdown",
   "metadata": {
    "colab_type": "text",
    "id": "NfJmRxcg1nt4"
   },
   "source": [
    "There are 16 rows with \"?\" in the column \"Nuclei\". In order to keep the data consistant, I am going to remove those rows and change all the rest values to integer."
   ]
  },
  {
   "cell_type": "code",
   "execution_count": 0,
   "metadata": {
    "colab": {},
    "colab_type": "code",
    "id": "ump0Cznv1yKG"
   },
   "outputs": [],
   "source": [
    "indexNames = data[data['Nuclei'] == '?'].index\n",
    "# print (indexNames)\n",
    "# Delete these row indexes from data\n",
    "data.drop(indexNames, inplace=True)\n",
    "data['Nuclei'] = pd.to_numeric(data['Nuclei'])"
   ]
  },
  {
   "cell_type": "code",
   "execution_count": 0,
   "metadata": {
    "colab": {
     "base_uri": "https://localhost:8080/",
     "height": 34
    },
    "colab_type": "code",
    "executionInfo": {
     "elapsed": 306,
     "status": "ok",
     "timestamp": 1562130833565,
     "user": {
      "displayName": "Penny Gao",
      "photoUrl": "https://lh3.googleusercontent.com/-gQzVWxqbnp4/AAAAAAAAAAI/AAAAAAAAAHc/n3xQplCzb_Q/s64/photo.jpg",
      "userId": "16943984884699102557"
     },
     "user_tz": 420
    },
    "id": "6r8iRCCB72CH",
    "outputId": "ea6d1ae9-4f75-45fc-db21-11a748daba9b"
   },
   "outputs": [
    {
     "data": {
      "text/plain": [
       "(683, 11)"
      ]
     },
     "execution_count": 46,
     "metadata": {
      "tags": []
     },
     "output_type": "execute_result"
    }
   ],
   "source": [
    "data.shape"
   ]
  },
  {
   "cell_type": "markdown",
   "metadata": {
    "colab_type": "text",
    "id": "H_1jOjXP2Iov"
   },
   "source": [
    "*   The total length of our data reduced from 699 to 683.\n",
    "\n",
    "\n",
    "* Next, I want to check if each cell has a unique ID."
   ]
  },
  {
   "cell_type": "code",
   "execution_count": 0,
   "metadata": {
    "colab": {
     "base_uri": "https://localhost:8080/",
     "height": 34
    },
    "colab_type": "code",
    "executionInfo": {
     "elapsed": 306,
     "status": "ok",
     "timestamp": 1562130836560,
     "user": {
      "displayName": "Penny Gao",
      "photoUrl": "https://lh3.googleusercontent.com/-gQzVWxqbnp4/AAAAAAAAAAI/AAAAAAAAAHc/n3xQplCzb_Q/s64/photo.jpg",
      "userId": "16943984884699102557"
     },
     "user_tz": 420
    },
    "id": "Hc4VFH0K2MsN",
    "outputId": "4e542e31-1770-4b08-cac0-d8253dfd3605"
   },
   "outputs": [
    {
     "name": "stdout",
     "output_type": "stream",
     "text": [
      "True\n"
     ]
    }
   ],
   "source": [
    "print(any(data['ID'].duplicated()))   "
   ]
  },
  {
   "cell_type": "code",
   "execution_count": 0,
   "metadata": {
    "colab": {
     "base_uri": "https://localhost:8080/",
     "height": 34
    },
    "colab_type": "code",
    "executionInfo": {
     "elapsed": 308,
     "status": "ok",
     "timestamp": 1562130846084,
     "user": {
      "displayName": "Penny Gao",
      "photoUrl": "https://lh3.googleusercontent.com/-gQzVWxqbnp4/AAAAAAAAAAI/AAAAAAAAAHc/n3xQplCzb_Q/s64/photo.jpg",
      "userId": "16943984884699102557"
     },
     "user_tz": 420
    },
    "id": "GLah0ymv2sgf",
    "outputId": "48d0038a-ad86-43cf-cfa2-5ce2fdf08532"
   },
   "outputs": [
    {
     "name": "stdout",
     "output_type": "stream",
     "text": [
      "53\n"
     ]
    }
   ],
   "source": [
    "dups = len(data['ID'])-len(data['ID'].drop_duplicates())\n",
    "print (dups)"
   ]
  },
  {
   "cell_type": "markdown",
   "metadata": {
    "colab_type": "text",
    "id": "ehVJU75PlpTn"
   },
   "source": [
    "There are 53 cells have duplicate IDs. I don't think we need to remove the duplicates at this point. \n",
    "\n",
    "But in the future, I would like to get more information about those duplicates. \n",
    "1. Are they the sample cells from the same patients but at different time?\n",
    "2. Do the duplicates carry important implications?\n",
    "\n",
    "### 1-3: Check if the two classes of cell have very unbalanced sample size."
   ]
  },
  {
   "cell_type": "code",
   "execution_count": 0,
   "metadata": {
    "colab": {
     "base_uri": "https://localhost:8080/",
     "height": 142
    },
    "colab_type": "code",
    "executionInfo": {
     "elapsed": 348,
     "status": "ok",
     "timestamp": 1562130856970,
     "user": {
      "displayName": "Penny Gao",
      "photoUrl": "https://lh3.googleusercontent.com/-gQzVWxqbnp4/AAAAAAAAAAI/AAAAAAAAAHc/n3xQplCzb_Q/s64/photo.jpg",
      "userId": "16943984884699102557"
     },
     "user_tz": 420
    },
    "id": "AkzXzp3jmHXH",
    "outputId": "e37e597a-e22e-4552-c147-0e90058f7fa6"
   },
   "outputs": [
    {
     "data": {
      "text/html": [
       "<div>\n",
       "<style scoped>\n",
       "    .dataframe tbody tr th:only-of-type {\n",
       "        vertical-align: middle;\n",
       "    }\n",
       "\n",
       "    .dataframe tbody tr th {\n",
       "        vertical-align: top;\n",
       "    }\n",
       "\n",
       "    .dataframe thead th {\n",
       "        text-align: right;\n",
       "    }\n",
       "</style>\n",
       "<table border=\"1\" class=\"dataframe\">\n",
       "  <thead>\n",
       "    <tr style=\"text-align: right;\">\n",
       "      <th></th>\n",
       "      <th>ID</th>\n",
       "      <th>Thickness</th>\n",
       "      <th>Cell_size</th>\n",
       "      <th>Cell_shape</th>\n",
       "      <th>M_adhesion</th>\n",
       "      <th>E_Size</th>\n",
       "      <th>Nuclei</th>\n",
       "      <th>Chromatin</th>\n",
       "      <th>Nucleoli</th>\n",
       "      <th>Mitoses</th>\n",
       "    </tr>\n",
       "    <tr>\n",
       "      <th>Class</th>\n",
       "      <th></th>\n",
       "      <th></th>\n",
       "      <th></th>\n",
       "      <th></th>\n",
       "      <th></th>\n",
       "      <th></th>\n",
       "      <th></th>\n",
       "      <th></th>\n",
       "      <th></th>\n",
       "      <th></th>\n",
       "    </tr>\n",
       "  </thead>\n",
       "  <tbody>\n",
       "    <tr>\n",
       "      <th>2</th>\n",
       "      <td>444</td>\n",
       "      <td>444</td>\n",
       "      <td>444</td>\n",
       "      <td>444</td>\n",
       "      <td>444</td>\n",
       "      <td>444</td>\n",
       "      <td>444</td>\n",
       "      <td>444</td>\n",
       "      <td>444</td>\n",
       "      <td>444</td>\n",
       "    </tr>\n",
       "    <tr>\n",
       "      <th>4</th>\n",
       "      <td>239</td>\n",
       "      <td>239</td>\n",
       "      <td>239</td>\n",
       "      <td>239</td>\n",
       "      <td>239</td>\n",
       "      <td>239</td>\n",
       "      <td>239</td>\n",
       "      <td>239</td>\n",
       "      <td>239</td>\n",
       "      <td>239</td>\n",
       "    </tr>\n",
       "  </tbody>\n",
       "</table>\n",
       "</div>"
      ],
      "text/plain": [
       "        ID  Thickness  Cell_size  ...  Chromatin  Nucleoli  Mitoses\n",
       "Class                             ...                              \n",
       "2      444        444        444  ...        444       444      444\n",
       "4      239        239        239  ...        239       239      239\n",
       "\n",
       "[2 rows x 10 columns]"
      ]
     },
     "execution_count": 51,
     "metadata": {
      "tags": []
     },
     "output_type": "execute_result"
    }
   ],
   "source": [
    "count = data.groupby(['Class']).count() \n",
    "count"
   ]
  },
  {
   "cell_type": "markdown",
   "metadata": {
    "colab_type": "text",
    "id": "Y9j1orjwmf1P"
   },
   "source": [
    "**There are more benign cells, labelled as 2, than malignant cells, labelled as 4.** \n",
    "But the imbanlance is not extreme and I would like to continue the next step without worrying about the imbalance here.\n",
    "\n",
    "## Step 2: Data Visualization and Explorization\n",
    "\n",
    "For visualization, my first instinct is to explore the histogram of each feature category to see if any of them show different distribution with different class.\n",
    "\n",
    "### 2-1: Histogram"
   ]
  },
  {
   "cell_type": "code",
   "execution_count": 0,
   "metadata": {
    "colab": {
     "base_uri": "https://localhost:8080/",
     "height": 718
    },
    "colab_type": "code",
    "executionInfo": {
     "elapsed": 2724,
     "status": "ok",
     "timestamp": 1562130863859,
     "user": {
      "displayName": "Penny Gao",
      "photoUrl": "https://lh3.googleusercontent.com/-gQzVWxqbnp4/AAAAAAAAAAI/AAAAAAAAAHc/n3xQplCzb_Q/s64/photo.jpg",
      "userId": "16943984884699102557"
     },
     "user_tz": 420
    },
    "id": "KGfTrQcYmXn1",
    "outputId": "2c7cb2ab-ae33-43ec-cf28-4892fb667959"
   },
   "outputs": [
    {
     "data": {
      "image/png": "[encoded data removed]",
      "text/plain": [
       "<Figure size 864x864 with 9 Axes>"
      ]
     },
     "metadata": {
      "tags": []
     },
     "output_type": "display_data"
    }
   ],
   "source": [
    "f, axes = plt.subplots(3, 3, figsize=(12, 12), sharex=True)\n",
    "sns.distplot(data[data[\"Class\"]==2][\"Thickness\"], color=\"lightgreen\", label=\"Benign\", ax = axes[0,0])\n",
    "sns.distplot(data[data[\"Class\"]==4][\"Thickness\"], color=\"red\", label = \"malignant\", ax = axes[0,0])\n",
    "sns.distplot(data[data[\"Class\"]==2][\"Cell_size\"], color=\"lightgreen\", label=\"Benign\", ax = axes[0,1])\n",
    "sns.distplot(data[data[\"Class\"]==4][\"Cell_size\"], color=\"red\", label = \"malignant\", ax = axes[0,1])\n",
    "sns.distplot(data[data[\"Class\"]==2][\"Cell_shape\"], color=\"lightgreen\", label=\"Benign\", ax = axes[0,2])\n",
    "sns.distplot(data[data[\"Class\"]==4][\"Cell_shape\"], color=\"red\", label = \"malignant\", ax = axes[0,2])\n",
    "sns.distplot(data[data[\"Class\"]==2][\"M_adhesion\"], color=\"lightgreen\", label=\"Benign\", ax = axes[1,0])\n",
    "sns.distplot(data[data[\"Class\"]==4][\"M_adhesion\"], color=\"red\", label = \"malignant\", ax = axes[1,0])\n",
    "sns.distplot(data[data[\"Class\"]==2][\"E_Size\"], color=\"lightgreen\", label=\"Benign\", ax = axes[1,1])\n",
    "sns.distplot(data[data[\"Class\"]==4][\"E_Size\"], color=\"red\", label = \"malignant\", ax = axes[1,1])\n",
    "sns.distplot(data[data[\"Class\"]==2][\"Nuclei\"], color=\"lightgreen\", label=\"Benign\", ax = axes[1,2])\n",
    "sns.distplot(data[data[\"Class\"]==4][\"Nuclei\"], color=\"red\", label = \"malignant\", ax = axes[1,2])\n",
    "sns.distplot(data[data[\"Class\"]==2][\"Chromatin\"], color=\"lightgreen\", label=\"Benign\", ax = axes[2,0])\n",
    "sns.distplot(data[data[\"Class\"]==4][\"Chromatin\"], color=\"red\", label = \"malignant\", ax = axes[2,0])\n",
    "sns.distplot(data[data[\"Class\"]==2][\"Nucleoli\"], color=\"lightgreen\", label=\"Benign\", ax = axes[2,1])\n",
    "sns.distplot(data[data[\"Class\"]==4][\"Nucleoli\"], color=\"red\", label = \"malignant\", ax = axes[2,1])\n",
    "sns.distplot(data[data[\"Class\"]==2][\"Mitoses\"], color=\"lightgreen\", label=\"Benign\", ax = axes[2,2])\n",
    "sns.distplot(data[data[\"Class\"]==4][\"Mitoses\"], color=\"red\", label = \"malignant\", ax = axes[2,2])\n",
    "for i in range(3):\n",
    "  for j in range(3):\n",
    "    axes[i,j].legend(loc = 'best')"
   ]
  },
  {
   "cell_type": "markdown",
   "metadata": {
    "colab_type": "text",
    "id": "64nOfKh09260"
   },
   "source": [
    "Thickness and Chromatin seems like good features to separate the classes.\n",
    "\n",
    "All the features are scaled from 0-10. I would like to look at the correlation matrix next.\n",
    "\n",
    "### 2-2: Correlation matrix"
   ]
  },
  {
   "cell_type": "code",
   "execution_count": 0,
   "metadata": {
    "colab": {
     "base_uri": "https://localhost:8080/",
     "height": 335
    },
    "colab_type": "code",
    "executionInfo": {
     "elapsed": 657,
     "status": "ok",
     "timestamp": 1562130870944,
     "user": {
      "displayName": "Penny Gao",
      "photoUrl": "https://lh3.googleusercontent.com/-gQzVWxqbnp4/AAAAAAAAAAI/AAAAAAAAAHc/n3xQplCzb_Q/s64/photo.jpg",
      "userId": "16943984884699102557"
     },
     "user_tz": 420
    },
    "id": "lNAuUGUrxKY0",
    "outputId": "87187e4a-2728-48a6-f855-ec4d2a52f03f"
   },
   "outputs": [
    {
     "data": {
      "text/plain": [
       "<matplotlib.axes._subplots.AxesSubplot at 0x7f87cbefdac8>"
      ]
     },
     "execution_count": 53,
     "metadata": {
      "tags": []
     },
     "output_type": "execute_result"
    },
    {
     "data": {
      "image/png": "[encoded data removed]",
      "text/plain": [
       "<Figure size 432x288 with 2 Axes>"
      ]
     },
     "metadata": {
      "tags": []
     },
     "output_type": "display_data"
    }
   ],
   "source": [
    "df = data.drop(['ID','Class'], axis=1)\n",
    "\n",
    "corr = df.corr()\n",
    "sns.heatmap(corr, \n",
    "            xticklabels=corr.columns.values,\n",
    "            yticklabels=corr.columns.values)"
   ]
  },
  {
   "cell_type": "markdown",
   "metadata": {
    "colab_type": "text",
    "id": "tiiuCfhWAhDI"
   },
   "source": [
    "**From correlation matirx, cell size and shape are highly correlated with each other. Mitoses has little correlation with other features, but when comparing with the histogram, its value does not have obvious separation between different cell classes.**\n",
    "\n",
    "## 3. Classification\n",
    "\n",
    "For this dataset, I would like to try Naive Bayers and K Nearest Neighbor.\n",
    "\n",
    "* Naive Bayes is a simple but powerful supervised learning algorithm. It is very powerful especially in text discrimination. However, Naive Bayes treats each feature as independent and classify the dataset based on their conditional probabilities. Some of the features in our dataset are correlated. Thus, I will try another classifier to compare.\n",
    "\n",
    "* SVC has high accuracy, nice theoretical guarantees regarding overfitting, and with an appropriate kernel they can work well even if the data isn’t linearly separable in the base feature space. Feature scaling is a very important preprocessing step for SVC classifier.\n",
    "\n",
    "* K Nearest Neighbor is an non parametric learning algorithm, K nearest neighbor is the first classifier came to my mind for this project. However, preprocessing steps are necessary for K Nearest Neighbor before fitting to ensure good performance. \n",
    "\n",
    "       KNN performs better with lower dimensionality.\n",
    "       KNN can't calculate missing value in a dataset.\n",
    "       KNN performs better if all the features have same scale\n",
    "\n",
    "Based on the those rules, I am going to perform SelectKBest for K Nearest Neighbor classifier.\n",
    "\n",
    "\n",
    "\n",
    "---"
   ]
  },
  {
   "cell_type": "code",
   "execution_count": 0,
   "metadata": {
    "colab": {},
    "colab_type": "code",
    "id": "CksZDBmhPmiW"
   },
   "outputs": [],
   "source": [
    "from sklearn.model_selection import train_test_split"
   ]
  },
  {
   "cell_type": "markdown",
   "metadata": {
    "colab_type": "text",
    "id": "CJgBkvbaP_1C"
   },
   "source": [
    "### 3-1 Function: evaluate the classifiers with accuracy, recall and precision"
   ]
  },
  {
   "cell_type": "code",
   "execution_count": 0,
   "metadata": {
    "colab": {},
    "colab_type": "code",
    "id": "8fJ3nkcyP7Z1"
   },
   "outputs": [],
   "source": [
    "def evaluate_clf(clf, features, labels, normalize = False, ave = 'binary'):\n",
    "    \"\"\"\n",
    "    evaluate_clf is used to evaluate the performance of classifiers\n",
    "    Parameters\n",
    "    ----------\n",
    "    clf: classifier\n",
    "    features: the features that will be used in this classifier\n",
    "    labels: the classfication\n",
    "    normalize: default = False. If it equals true, features scaling will be\n",
    "                perfromed before spliting train and test dataset\n",
    "    ave: it determines the type of averaging performed on the data.\n",
    "    Returns\n",
    "    -------\n",
    "    accuracy: the accuracy of the classifier\n",
    "    recall: the ratio of true positive / (true positive + false negative)\n",
    "    presicion: the ratio of true positive / (true positive + false positive)\n",
    "    \"\"\"\n",
    "    from sklearn.metrics import recall_score\n",
    "    from sklearn.metrics import precision_score\n",
    "    from sklearn.metrics import accuracy_score\n",
    "\n",
    "    if normalize == True:\n",
    "        from sklearn.preprocessing import MinMaxScaler\n",
    "        scaler = MinMaxScaler()\n",
    "        features = scaler.fit_transform(features)\n",
    "\n",
    "\n",
    "    features_train, features_test, labels_train, labels_test = \\\n",
    "        train_test_split(features, labels, test_size=0.3, random_state=42)\n",
    "    clf.fit(features_train, labels_train)\n",
    "    pred = clf.predict(features_test)\n",
    "    accuracy = accuracy_score(labels_test, pred)\n",
    "    recall = recall_score(labels_test, pred, average = ave)\n",
    "    precision = precision_score(labels_test, pred, average = ave)\n",
    "    return accuracy, recall, precision"
   ]
  },
  {
   "cell_type": "markdown",
   "metadata": {
    "colab_type": "text",
    "id": "wNIIc0FfQEoe"
   },
   "source": [
    "* Define features and labels for classification"
   ]
  },
  {
   "cell_type": "code",
   "execution_count": 0,
   "metadata": {
    "colab": {},
    "colab_type": "code",
    "id": "UFYP8knfAgtf"
   },
   "outputs": [],
   "source": [
    "X = df \n",
    "Y = data['Class'].replace({2:0, 4:1})"
   ]
  },
  {
   "cell_type": "markdown",
   "metadata": {
    "colab_type": "text",
    "id": "I9pM2PubPPUD"
   },
   "source": [
    "### 3-2: Naive Bayer"
   ]
  },
  {
   "cell_type": "code",
   "execution_count": 0,
   "metadata": {
    "colab": {
     "base_uri": "https://localhost:8080/",
     "height": 68
    },
    "colab_type": "code",
    "executionInfo": {
     "elapsed": 309,
     "status": "ok",
     "timestamp": 1562131278319,
     "user": {
      "displayName": "Penny Gao",
      "photoUrl": "https://lh3.googleusercontent.com/-gQzVWxqbnp4/AAAAAAAAAAI/AAAAAAAAAHc/n3xQplCzb_Q/s64/photo.jpg",
      "userId": "16943984884699102557"
     },
     "user_tz": 420
    },
    "id": "DuhCPVYqA54T",
    "outputId": "a6fd4df4-b20c-4f6d-f3ee-0d8e54379db4"
   },
   "outputs": [
    {
     "name": "stdout",
     "output_type": "stream",
     "text": [
      "The accuracy for Naive bayes: 0.965854\n",
      "The recall for Naive bayes: 0.961538\n",
      "The precision for Naive bayes: 0.949367\n"
     ]
    }
   ],
   "source": [
    "from sklearn.naive_bayes import GaussianNB\n",
    "clf_NB = GaussianNB()\n",
    "accuracy, recall, precision = evaluate_clf(clf_NB, X, Y)\n",
    "print (\"The accuracy for Naive bayes: %f\" % (accuracy))\n",
    "print (\"The recall for Naive bayes: %f\" % (recall))\n",
    "print (\"The precision for Naive bayes: %f\" % (precision))"
   ]
  },
  {
   "cell_type": "markdown",
   "metadata": {
    "colab_type": "text",
    "id": "Zfzh43hLQnDi"
   },
   "source": [
    "### 3-3: SVC classfier"
   ]
  },
  {
   "cell_type": "code",
   "execution_count": 0,
   "metadata": {
    "colab": {
     "base_uri": "https://localhost:8080/",
     "height": 68
    },
    "colab_type": "code",
    "executionInfo": {
     "elapsed": 327,
     "status": "ok",
     "timestamp": 1562131207342,
     "user": {
      "displayName": "Penny Gao",
      "photoUrl": "https://lh3.googleusercontent.com/-gQzVWxqbnp4/AAAAAAAAAAI/AAAAAAAAAHc/n3xQplCzb_Q/s64/photo.jpg",
      "userId": "16943984884699102557"
     },
     "user_tz": 420
    },
    "id": "ZInmas2cQsrT",
    "outputId": "4ff98cc6-dc15-4437-f0d1-40bf80a9a9d4"
   },
   "outputs": [
    {
     "name": "stdout",
     "output_type": "stream",
     "text": [
      "The accuracy for SVC is: 0.956098\n",
      "The recall for SVC is: 0.947254\n",
      "The precision for SVC is: 0.959786\n"
     ]
    }
   ],
   "source": [
    "from sklearn.svm import LinearSVC\n",
    "clf_SVC = LinearSVC(random_state=42, tol=1e-5)\n",
    "accuracy, recall, precision = evaluate_clf(clf_SVC, X, Y,\n",
    "normalize = True, ave = 'macro')\n",
    "print (\"The accuracy for SVC is: %f\" % (accuracy))\n",
    "print (\"The recall for SVC is: %f\" % (recall))\n",
    "print (\"The precision for SVC is: %f\" % (precision))"
   ]
  },
  {
   "cell_type": "markdown",
   "metadata": {
    "colab_type": "text",
    "id": "nw5d5FHQUBN_"
   },
   "source": [
    "### 3-4: K Nearest Neighbors"
   ]
  },
  {
   "cell_type": "code",
   "execution_count": 0,
   "metadata": {
    "colab": {
     "base_uri": "https://localhost:8080/",
     "height": 54
    },
    "colab_type": "code",
    "executionInfo": {
     "elapsed": 332,
     "status": "ok",
     "timestamp": 1562131707458,
     "user": {
      "displayName": "Penny Gao",
      "photoUrl": "https://lh3.googleusercontent.com/-gQzVWxqbnp4/AAAAAAAAAAI/AAAAAAAAAHc/n3xQplCzb_Q/s64/photo.jpg",
      "userId": "16943984884699102557"
     },
     "user_tz": 420
    },
    "id": "7y8SODtWCtJy",
    "outputId": "2403c441-1d4f-4dcd-f203-114b4624ef2c"
   },
   "outputs": [
    {
     "name": "stdout",
     "output_type": "stream",
     "text": [
      "K-best features: [(True, 'Nuclei', 1426.2402697371135), (True, 'Cell_shape', 1417.6438408647628), (True, 'Cell_size', 1406.1324695730168), (True, 'Chromatin', 921.0100147383689), (True, 'Nucleoli', 727.4708050995351), (False, 'Thickness', 711.4234463367795), (False, 'M_adhesion', 677.87840028496), (False, 'E_Size', 622.1576809790224), (False, 'Mitoses', 148.78768876839013)]\n"
     ]
    }
   ],
   "source": [
    "from sklearn.feature_selection import SelectKBest\n",
    "KB = SelectKBest(k = 5)\n",
    "KB.fit(X, Y)\n",
    "\n",
    "features_list = ['Thickness', 'Cell_size', 'Cell_shape', 'M_adhesion', 'E_Size',\n",
    "       'Nuclei', 'Chromatin', 'Nucleoli', 'Mitoses']\n",
    "new_list = zip(KB.get_support(), features_list, KB.scores_)\n",
    "new_list = sorted(new_list, key=lambda x: x[2], reverse=True)\n",
    "print (\"K-best features:\", new_list)\n"
   ]
  },
  {
   "cell_type": "code",
   "execution_count": 0,
   "metadata": {
    "colab": {
     "base_uri": "https://localhost:8080/",
     "height": 68
    },
    "colab_type": "code",
    "executionInfo": {
     "elapsed": 353,
     "status": "ok",
     "timestamp": 1562131793500,
     "user": {
      "displayName": "Penny Gao",
      "photoUrl": "https://lh3.googleusercontent.com/-gQzVWxqbnp4/AAAAAAAAAAI/AAAAAAAAAHc/n3xQplCzb_Q/s64/photo.jpg",
      "userId": "16943984884699102557"
     },
     "user_tz": 420
    },
    "id": "KdbpoIm5WUK-",
    "outputId": "489ed3ed-b1a1-4845-df6e-338556c4a76a"
   },
   "outputs": [
    {
     "name": "stdout",
     "output_type": "stream",
     "text": [
      "The accuracy for KNeighborsClassifier is: 0.956098\n",
      "The recall for KNeighborsClassifier is: 0.910256\n",
      "The precision for KNeighborsClassifier is: 0.972603\n"
     ]
    }
   ],
   "source": [
    "from sklearn.neighbors import KNeighborsClassifier\n",
    "KNN= KNeighborsClassifier(n_neighbors = 5)\n",
    "accuracy, recall, precision = evaluate_clf(KNN, X, Y,\n",
    "normalize = False)\n",
    "print (\"The accuracy for KNeighborsClassifier is: %f\" % (accuracy))\n",
    "print (\"The recall for KNeighborsClassifier is: %f\" % (recall))\n",
    "print (\"The precision for KNeighborsClassifier is: %f\" % (precision))"
   ]
  },
  {
   "cell_type": "markdown",
   "metadata": {
    "colab_type": "text",
    "id": "I7I7raM7UJv8"
   },
   "source": [
    "* Test if only choose 4 features"
   ]
  },
  {
   "cell_type": "code",
   "execution_count": 0,
   "metadata": {
    "colab": {
     "base_uri": "https://localhost:8080/",
     "height": 68
    },
    "colab_type": "code",
    "executionInfo": {
     "elapsed": 317,
     "status": "ok",
     "timestamp": 1562131845996,
     "user": {
      "displayName": "Penny Gao",
      "photoUrl": "https://lh3.googleusercontent.com/-gQzVWxqbnp4/AAAAAAAAAAI/AAAAAAAAAHc/n3xQplCzb_Q/s64/photo.jpg",
      "userId": "16943984884699102557"
     },
     "user_tz": 420
    },
    "id": "DaFA1c4rW3af",
    "outputId": "8b99581a-72ec-468b-8c69-283fdd463067"
   },
   "outputs": [
    {
     "name": "stdout",
     "output_type": "stream",
     "text": [
      "The accuracy for KNeighborsClassifier is: 0.956098\n",
      "The recall for KNeighborsClassifier is: 0.935897\n",
      "The precision for KNeighborsClassifier is: 0.948052\n"
     ]
    }
   ],
   "source": [
    "new_X = X[['Nuclei', 'Cell_shape', 'Cell_size','Chromatin']]\n",
    "accuracy, recall, precision = evaluate_clf(KNN, new_X, Y,\n",
    "normalize = False)\n",
    "print (\"The accuracy for KNeighborsClassifier is: %f\" % (accuracy))\n",
    "print (\"The recall for KNeighborsClassifier is: %f\" % (recall))\n",
    "print (\"The precision for KNeighborsClassifier is: %f\" % (precision))"
   ]
  },
  {
   "cell_type": "markdown",
   "metadata": {
    "colab_type": "text",
    "id": "r50gTtsBWrmf"
   },
   "source": [
    "### Conclusion: all 3 classifiers have very good results. Based on the evaluation, I will choose linear SVC classifer for this dataset."
   ]
  },
  {
   "cell_type": "markdown",
   "metadata": {
    "colab_type": "text",
    "id": "ODPWEUkQZIZb"
   },
   "source": [
    "### Step 4: Parameter tuning\n",
    "\n",
    "* Cross_validation for KNeighborsClassifier"
   ]
  },
  {
   "cell_type": "code",
   "execution_count": 0,
   "metadata": {
    "colab": {
     "base_uri": "https://localhost:8080/",
     "height": 1000
    },
    "colab_type": "code",
    "executionInfo": {
     "elapsed": 3777,
     "status": "ok",
     "timestamp": 1562133330518,
     "user": {
      "displayName": "Penny Gao",
      "photoUrl": "https://lh3.googleusercontent.com/-gQzVWxqbnp4/AAAAAAAAAAI/AAAAAAAAAHc/n3xQplCzb_Q/s64/photo.jpg",
      "userId": "16943984884699102557"
     },
     "user_tz": 420
    },
    "id": "e0xzKTuXZHvm",
    "outputId": "f2f44bed-687a-48b7-edd3-2391c30f6294"
   },
   "outputs": [
    {
     "name": "stdout",
     "output_type": "stream",
     "text": [
      "Fitting 5 folds for each of 54 candidates, totalling 270 fits\n",
      "[CV] KNN__n_neighbors=2, features__K_best__k=1, features__pca__n_components=1 \n",
      "[CV]  KNN__n_neighbors=2, features__K_best__k=1, features__pca__n_components=1, score=0.918, total=   0.0s\n",
      "[CV] KNN__n_neighbors=2, features__K_best__k=1, features__pca__n_components=1 \n",
      "[CV]  KNN__n_neighbors=2, features__K_best__k=1, features__pca__n_components=1, score=0.958, total=   0.0s\n",
      "[CV] KNN__n_neighbors=2, features__K_best__k=1, features__pca__n_components=1 \n",
      "[CV]  KNN__n_neighbors=2, features__K_best__k=1, features__pca__n_components=1, score=0.947, total=   0.0s\n",
      "[CV] KNN__n_neighbors=2, features__K_best__k=1, features__pca__n_components=1 \n",
      "[CV]  KNN__n_neighbors=2, features__K_best__k=1, features__pca__n_components=1, score=0.937, total=   0.0s\n",
      "[CV] KNN__n_neighbors=2, features__K_best__k=1, features__pca__n_components=1 \n",
      "[CV]  KNN__n_neighbors=2, features__K_best__k=1, features__pca__n_components=1, score=0.947, total=   0.0s\n",
      "[CV] KNN__n_neighbors=2, features__K_best__k=1, features__pca__n_components=2 \n",
      "[CV]  KNN__n_neighbors=2, features__K_best__k=1, features__pca__n_components=2, score=0.907, total=   0.0s\n",
      "[CV] KNN__n_neighbors=2, features__K_best__k=1, features__pca__n_components=2 \n",
      "[CV]  KNN__n_neighbors=2, features__K_best__k=1, features__pca__n_components=2, score=0.948, total=   0.0s\n",
      "[CV] KNN__n_neighbors=2, features__K_best__k=1, features__pca__n_components=2 \n",
      "[CV]  KNN__n_neighbors=2, features__K_best__k=1, features__pca__n_components=2, score=0.947, total=   0.0s\n",
      "[CV] KNN__n_neighbors=2, features__K_best__k=1, features__pca__n_components=2 \n",
      "[CV]  KNN__n_neighbors=2, features__K_best__k=1, features__pca__n_components=2, score=0.926, total=   0.0s\n",
      "[CV] KNN__n_neighbors=2, features__K_best__k=1, features__pca__n_components=2 \n",
      "[CV]  KNN__n_neighbors=2, features__K_best__k=1, features__pca__n_components=2, score=0.937, total=   0.0s\n",
      "[CV] KNN__n_neighbors=2, features__K_best__k=1, features__pca__n_components=3 \n",
      "[CV]  KNN__n_neighbors=2, features__K_best__k=1, features__pca__n_components=3, score=0.918, total=   0.0s\n",
      "[CV] KNN__n_neighbors=2, features__K_best__k=1, features__pca__n_components=3 \n",
      "[CV]  KNN__n_neighbors=2, features__K_best__k=1, features__pca__n_components=3, score=0.958, total=   0.0s\n",
      "[CV] KNN__n_neighbors=2, features__K_best__k=1, features__pca__n_components=3 \n",
      "[CV]  KNN__n_neighbors=2, features__K_best__k=1, features__pca__n_components=3, score=0.968, total=   0.0s\n",
      "[CV] KNN__n_neighbors=2, features__K_best__k=1, features__pca__n_components=3 \n",
      "[CV]  KNN__n_neighbors=2, features__K_best__k=1, features__pca__n_components=3, score=0.926, total=   0.0s\n",
      "[CV] KNN__n_neighbors=2, features__K_best__k=1, features__pca__n_components=3 \n",
      "[CV]  KNN__n_neighbors=2, features__K_best__k=1, features__pca__n_components=3, score=0.968, total=   0.0s\n",
      "[CV] KNN__n_neighbors=2, features__K_best__k=2, features__pca__n_components=1 \n",
      "[CV]  KNN__n_neighbors=2, features__K_best__k=2, features__pca__n_components=1, score=0.907, total=   0.0s\n",
      "[CV] KNN__n_neighbors=2, features__K_best__k=2, features__pca__n_components=1 \n",
      "[CV]  KNN__n_neighbors=2, features__K_best__k=2, features__pca__n_components=1, score=0.948, total=   0.0s\n",
      "[CV] KNN__n_neighbors=2, features__K_best__k=2, features__pca__n_components=1 \n"
     ]
    },
    {
     "name": "stderr",
     "output_type": "stream",
     "text": [
      "[Parallel(n_jobs=1)]: Using backend SequentialBackend with 1 concurrent workers.\n",
      "[Parallel(n_jobs=1)]: Done   1 out of   1 | elapsed:    0.0s remaining:    0.0s\n",
      "[Parallel(n_jobs=1)]: Done   2 out of   2 | elapsed:    0.0s remaining:    0.0s\n",
      "[Parallel(n_jobs=1)]: Done   3 out of   3 | elapsed:    0.0s remaining:    0.0s\n",
      "[Parallel(n_jobs=1)]: Done   4 out of   4 | elapsed:    0.1s remaining:    0.0s\n",
      "[Parallel(n_jobs=1)]: Done   5 out of   5 | elapsed:    0.1s remaining:    0.0s\n",
      "[Parallel(n_jobs=1)]: Done   6 out of   6 | elapsed:    0.1s remaining:    0.0s\n",
      "[Parallel(n_jobs=1)]: Done   7 out of   7 | elapsed:    0.1s remaining:    0.0s\n",
      "[Parallel(n_jobs=1)]: Done   8 out of   8 | elapsed:    0.1s remaining:    0.0s\n",
      "[Parallel(n_jobs=1)]: Done   9 out of   9 | elapsed:    0.1s remaining:    0.0s\n"
     ]
    },
    {
     "name": "stdout",
     "output_type": "stream",
     "text": [
      "[CV]  KNN__n_neighbors=2, features__K_best__k=2, features__pca__n_components=1, score=0.958, total=   0.0s\n",
      "[CV] KNN__n_neighbors=2, features__K_best__k=2, features__pca__n_components=1 \n",
      "[CV]  KNN__n_neighbors=2, features__K_best__k=2, features__pca__n_components=1, score=0.926, total=   0.0s\n",
      "[CV] KNN__n_neighbors=2, features__K_best__k=2, features__pca__n_components=1 \n",
      "[CV]  KNN__n_neighbors=2, features__K_best__k=2, features__pca__n_components=1, score=0.947, total=   0.0s\n",
      "[CV] KNN__n_neighbors=2, features__K_best__k=2, features__pca__n_components=2 \n",
      "[CV]  KNN__n_neighbors=2, features__K_best__k=2, features__pca__n_components=2, score=0.938, total=   0.0s\n",
      "[CV] KNN__n_neighbors=2, features__K_best__k=2, features__pca__n_components=2 \n",
      "[CV]  KNN__n_neighbors=2, features__K_best__k=2, features__pca__n_components=2, score=0.938, total=   0.0s\n",
      "[CV] KNN__n_neighbors=2, features__K_best__k=2, features__pca__n_components=2 \n",
      "[CV]  KNN__n_neighbors=2, features__K_best__k=2, features__pca__n_components=2, score=0.958, total=   0.0s\n",
      "[CV] KNN__n_neighbors=2, features__K_best__k=2, features__pca__n_components=2 \n",
      "[CV]  KNN__n_neighbors=2, features__K_best__k=2, features__pca__n_components=2, score=0.916, total=   0.0s\n",
      "[CV] KNN__n_neighbors=2, features__K_best__k=2, features__pca__n_components=2 \n",
      "[CV]  KNN__n_neighbors=2, features__K_best__k=2, features__pca__n_components=2, score=0.958, total=   0.0s\n",
      "[CV] KNN__n_neighbors=2, features__K_best__k=2, features__pca__n_components=3 \n",
      "[CV]  KNN__n_neighbors=2, features__K_best__k=2, features__pca__n_components=3, score=0.928, total=   0.0s\n",
      "[CV] KNN__n_neighbors=2, features__K_best__k=2, features__pca__n_components=3 \n",
      "[CV]  KNN__n_neighbors=2, features__K_best__k=2, features__pca__n_components=3, score=0.958, total=   0.0s\n",
      "[CV] KNN__n_neighbors=2, features__K_best__k=2, features__pca__n_components=3 \n",
      "[CV]  KNN__n_neighbors=2, features__K_best__k=2, features__pca__n_components=3, score=0.968, total=   0.0s\n",
      "[CV] KNN__n_neighbors=2, features__K_best__k=2, features__pca__n_components=3 \n",
      "[CV]  KNN__n_neighbors=2, features__K_best__k=2, features__pca__n_components=3, score=0.926, total=   0.0s\n",
      "[CV] KNN__n_neighbors=2, features__K_best__k=2, features__pca__n_components=3 \n",
      "[CV]  KNN__n_neighbors=2, features__K_best__k=2, features__pca__n_components=3, score=0.968, total=   0.0s\n",
      "[CV] KNN__n_neighbors=2, features__K_best__k=3, features__pca__n_components=1 \n",
      "[CV]  KNN__n_neighbors=2, features__K_best__k=3, features__pca__n_components=1, score=0.928, total=   0.0s\n",
      "[CV] KNN__n_neighbors=2, features__K_best__k=3, features__pca__n_components=1 \n",
      "[CV]  KNN__n_neighbors=2, features__K_best__k=3, features__pca__n_components=1, score=0.948, total=   0.0s\n",
      "[CV] KNN__n_neighbors=2, features__K_best__k=3, features__pca__n_components=1 \n",
      "[CV]  KNN__n_neighbors=2, features__K_best__k=3, features__pca__n_components=1, score=0.968, total=   0.0s\n",
      "[CV] KNN__n_neighbors=2, features__K_best__k=3, features__pca__n_components=1 \n",
      "[CV]  KNN__n_neighbors=2, features__K_best__k=3, features__pca__n_components=1, score=0.916, total=   0.0s\n",
      "[CV] KNN__n_neighbors=2, features__K_best__k=3, features__pca__n_components=1 \n",
      "[CV]  KNN__n_neighbors=2, features__K_best__k=3, features__pca__n_components=1, score=0.958, total=   0.0s\n",
      "[CV] KNN__n_neighbors=2, features__K_best__k=3, features__pca__n_components=2 \n",
      "[CV]  KNN__n_neighbors=2, features__K_best__k=3, features__pca__n_components=2, score=0.928, total=   0.0s\n",
      "[CV] KNN__n_neighbors=2, features__K_best__k=3, features__pca__n_components=2 \n",
      "[CV]  KNN__n_neighbors=2, features__K_best__k=3, features__pca__n_components=2, score=0.958, total=   0.0s\n",
      "[CV] KNN__n_neighbors=2, features__K_best__k=3, features__pca__n_components=2 \n",
      "[CV]  KNN__n_neighbors=2, features__K_best__k=3, features__pca__n_components=2, score=0.958, total=   0.0s\n",
      "[CV] KNN__n_neighbors=2, features__K_best__k=3, features__pca__n_components=2 \n",
      "[CV]  KNN__n_neighbors=2, features__K_best__k=3, features__pca__n_components=2, score=0.905, total=   0.0s\n",
      "[CV] KNN__n_neighbors=2, features__K_best__k=3, features__pca__n_components=2 \n",
      "[CV]  KNN__n_neighbors=2, features__K_best__k=3, features__pca__n_components=2, score=0.968, total=   0.0s\n",
      "[CV] KNN__n_neighbors=2, features__K_best__k=3, features__pca__n_components=3 \n",
      "[CV]  KNN__n_neighbors=2, features__K_best__k=3, features__pca__n_components=3, score=0.938, total=   0.0s\n",
      "[CV] KNN__n_neighbors=2, features__K_best__k=3, features__pca__n_components=3 \n",
      "[CV]  KNN__n_neighbors=2, features__K_best__k=3, features__pca__n_components=3, score=0.948, total=   0.0s\n",
      "[CV] KNN__n_neighbors=2, features__K_best__k=3, features__pca__n_components=3 \n",
      "[CV]  KNN__n_neighbors=2, features__K_best__k=3, features__pca__n_components=3, score=0.958, total=   0.0s\n",
      "[CV] KNN__n_neighbors=2, features__K_best__k=3, features__pca__n_components=3 \n",
      "[CV]  KNN__n_neighbors=2, features__K_best__k=3, features__pca__n_components=3, score=0.926, total=   0.0s\n",
      "[CV] KNN__n_neighbors=2, features__K_best__k=3, features__pca__n_components=3 \n",
      "[CV]  KNN__n_neighbors=2, features__K_best__k=3, features__pca__n_components=3, score=0.968, total=   0.0s\n",
      "[CV] KNN__n_neighbors=3, features__K_best__k=1, features__pca__n_components=1 \n",
      "[CV]  KNN__n_neighbors=3, features__K_best__k=1, features__pca__n_components=1, score=0.959, total=   0.0s\n",
      "[CV] KNN__n_neighbors=3, features__K_best__k=1, features__pca__n_components=1 \n",
      "[CV]  KNN__n_neighbors=3, features__K_best__k=1, features__pca__n_components=1, score=0.958, total=   0.0s\n",
      "[CV] KNN__n_neighbors=3, features__K_best__k=1, features__pca__n_components=1 \n",
      "[CV]  KNN__n_neighbors=3, features__K_best__k=1, features__pca__n_components=1, score=0.979, total=   0.0s\n",
      "[CV] KNN__n_neighbors=3, features__K_best__k=1, features__pca__n_components=1 \n",
      "[CV]  KNN__n_neighbors=3, features__K_best__k=1, features__pca__n_components=1, score=0.947, total=   0.0s\n",
      "[CV] KNN__n_neighbors=3, features__K_best__k=1, features__pca__n_components=1 \n",
      "[CV]  KNN__n_neighbors=3, features__K_best__k=1, features__pca__n_components=1, score=0.979, total=   0.0s\n",
      "[CV] KNN__n_neighbors=3, features__K_best__k=1, features__pca__n_components=2 \n",
      "[CV]  KNN__n_neighbors=3, features__K_best__k=1, features__pca__n_components=2, score=0.959, total=   0.0s\n",
      "[CV] KNN__n_neighbors=3, features__K_best__k=1, features__pca__n_components=2 \n",
      "[CV]  KNN__n_neighbors=3, features__K_best__k=1, features__pca__n_components=2, score=0.958, total=   0.0s\n",
      "[CV] KNN__n_neighbors=3, features__K_best__k=1, features__pca__n_components=2 \n",
      "[CV]  KNN__n_neighbors=3, features__K_best__k=1, features__pca__n_components=2, score=0.968, total=   0.0s\n",
      "[CV] KNN__n_neighbors=3, features__K_best__k=1, features__pca__n_components=2 \n",
      "[CV]  KNN__n_neighbors=3, features__K_best__k=1, features__pca__n_components=2, score=0.947, total=   0.0s\n",
      "[CV] KNN__n_neighbors=3, features__K_best__k=1, features__pca__n_components=2 \n",
      "[CV]  KNN__n_neighbors=3, features__K_best__k=1, features__pca__n_components=2, score=0.979, total=   0.0s\n",
      "[CV] KNN__n_neighbors=3, features__K_best__k=1, features__pca__n_components=3 \n",
      "[CV]  KNN__n_neighbors=3, features__K_best__k=1, features__pca__n_components=3, score=0.948, total=   0.0s\n",
      "[CV] KNN__n_neighbors=3, features__K_best__k=1, features__pca__n_components=3 \n",
      "[CV]  KNN__n_neighbors=3, features__K_best__k=1, features__pca__n_components=3, score=0.969, total=   0.0s\n",
      "[CV] KNN__n_neighbors=3, features__K_best__k=1, features__pca__n_components=3 \n",
      "[CV]  KNN__n_neighbors=3, features__K_best__k=1, features__pca__n_components=3, score=0.979, total=   0.0s\n",
      "[CV] KNN__n_neighbors=3, features__K_best__k=1, features__pca__n_components=3 \n",
      "[CV]  KNN__n_neighbors=3, features__K_best__k=1, features__pca__n_components=3, score=0.937, total=   0.0s\n",
      "[CV] KNN__n_neighbors=3, features__K_best__k=1, features__pca__n_components=3 \n",
      "[CV]  KNN__n_neighbors=3, features__K_best__k=1, features__pca__n_components=3, score=0.989, total=   0.0s\n",
      "[CV] KNN__n_neighbors=3, features__K_best__k=2, features__pca__n_components=1 \n",
      "[CV]  KNN__n_neighbors=3, features__K_best__k=2, features__pca__n_components=1, score=0.959, total=   0.0s\n",
      "[CV] KNN__n_neighbors=3, features__K_best__k=2, features__pca__n_components=1 \n",
      "[CV]  KNN__n_neighbors=3, features__K_best__k=2, features__pca__n_components=1, score=0.958, total=   0.0s\n",
      "[CV] KNN__n_neighbors=3, features__K_best__k=2, features__pca__n_components=1 \n",
      "[CV]  KNN__n_neighbors=3, features__K_best__k=2, features__pca__n_components=1, score=0.979, total=   0.0s\n",
      "[CV] KNN__n_neighbors=3, features__K_best__k=2, features__pca__n_components=1 \n",
      "[CV]  KNN__n_neighbors=3, features__K_best__k=2, features__pca__n_components=1, score=0.926, total=   0.0s\n",
      "[CV] KNN__n_neighbors=3, features__K_best__k=2, features__pca__n_components=1 \n",
      "[CV]  KNN__n_neighbors=3, features__K_best__k=2, features__pca__n_components=1, score=0.968, total=   0.0s\n",
      "[CV] KNN__n_neighbors=3, features__K_best__k=2, features__pca__n_components=2 \n",
      "[CV]  KNN__n_neighbors=3, features__K_best__k=2, features__pca__n_components=2, score=0.938, total=   0.0s\n",
      "[CV] KNN__n_neighbors=3, features__K_best__k=2, features__pca__n_components=2 \n",
      "[CV]  KNN__n_neighbors=3, features__K_best__k=2, features__pca__n_components=2, score=0.958, total=   0.0s\n",
      "[CV] KNN__n_neighbors=3, features__K_best__k=2, features__pca__n_components=2 \n",
      "[CV]  KNN__n_neighbors=3, features__K_best__k=2, features__pca__n_components=2, score=0.968, total=   0.0s\n",
      "[CV] KNN__n_neighbors=3, features__K_best__k=2, features__pca__n_components=2 \n",
      "[CV]  KNN__n_neighbors=3, features__K_best__k=2, features__pca__n_components=2, score=0.937, total=   0.0s\n",
      "[CV] KNN__n_neighbors=3, features__K_best__k=2, features__pca__n_components=2 \n",
      "[CV]  KNN__n_neighbors=3, features__K_best__k=2, features__pca__n_components=2, score=0.968, total=   0.0s\n",
      "[CV] KNN__n_neighbors=3, features__K_best__k=2, features__pca__n_components=3 \n",
      "[CV]  KNN__n_neighbors=3, features__K_best__k=2, features__pca__n_components=3, score=0.948, total=   0.0s\n",
      "[CV] KNN__n_neighbors=3, features__K_best__k=2, features__pca__n_components=3 \n",
      "[CV]  KNN__n_neighbors=3, features__K_best__k=2, features__pca__n_components=3, score=0.969, total=   0.0s\n",
      "[CV] KNN__n_neighbors=3, features__K_best__k=2, features__pca__n_components=3 \n",
      "[CV]  KNN__n_neighbors=3, features__K_best__k=2, features__pca__n_components=3, score=0.979, total=   0.0s\n",
      "[CV] KNN__n_neighbors=3, features__K_best__k=2, features__pca__n_components=3 \n",
      "[CV]  KNN__n_neighbors=3, features__K_best__k=2, features__pca__n_components=3, score=0.926, total=   0.0s\n",
      "[CV] KNN__n_neighbors=3, features__K_best__k=2, features__pca__n_components=3 \n",
      "[CV]  KNN__n_neighbors=3, features__K_best__k=2, features__pca__n_components=3, score=0.979, total=   0.0s\n",
      "[CV] KNN__n_neighbors=3, features__K_best__k=3, features__pca__n_components=1 \n",
      "[CV]  KNN__n_neighbors=3, features__K_best__k=3, features__pca__n_components=1, score=0.948, total=   0.0s\n",
      "[CV] KNN__n_neighbors=3, features__K_best__k=3, features__pca__n_components=1 \n",
      "[CV]  KNN__n_neighbors=3, features__K_best__k=3, features__pca__n_components=1, score=0.958, total=   0.0s\n",
      "[CV] KNN__n_neighbors=3, features__K_best__k=3, features__pca__n_components=1 \n",
      "[CV]  KNN__n_neighbors=3, features__K_best__k=3, features__pca__n_components=1, score=0.979, total=   0.0s\n",
      "[CV] KNN__n_neighbors=3, features__K_best__k=3, features__pca__n_components=1 \n",
      "[CV]  KNN__n_neighbors=3, features__K_best__k=3, features__pca__n_components=1, score=0.937, total=   0.0s\n",
      "[CV] KNN__n_neighbors=3, features__K_best__k=3, features__pca__n_components=1 \n",
      "[CV]  KNN__n_neighbors=3, features__K_best__k=3, features__pca__n_components=1, score=0.968, total=   0.0s\n",
      "[CV] KNN__n_neighbors=3, features__K_best__k=3, features__pca__n_components=2 \n",
      "[CV]  KNN__n_neighbors=3, features__K_best__k=3, features__pca__n_components=2, score=0.959, total=   0.0s\n",
      "[CV] KNN__n_neighbors=3, features__K_best__k=3, features__pca__n_components=2 \n",
      "[CV]  KNN__n_neighbors=3, features__K_best__k=3, features__pca__n_components=2, score=0.958, total=   0.0s\n",
      "[CV] KNN__n_neighbors=3, features__K_best__k=3, features__pca__n_components=2 \n",
      "[CV]  KNN__n_neighbors=3, features__K_best__k=3, features__pca__n_components=2, score=0.968, total=   0.0s\n",
      "[CV] KNN__n_neighbors=3, features__K_best__k=3, features__pca__n_components=2 \n",
      "[CV]  KNN__n_neighbors=3, features__K_best__k=3, features__pca__n_components=2, score=0.926, total=   0.0s\n",
      "[CV] KNN__n_neighbors=3, features__K_best__k=3, features__pca__n_components=2 \n",
      "[CV]  KNN__n_neighbors=3, features__K_best__k=3, features__pca__n_components=2, score=0.979, total=   0.0s\n",
      "[CV] KNN__n_neighbors=3, features__K_best__k=3, features__pca__n_components=3 \n",
      "[CV]  KNN__n_neighbors=3, features__K_best__k=3, features__pca__n_components=3, score=0.959, total=   0.0s\n",
      "[CV] KNN__n_neighbors=3, features__K_best__k=3, features__pca__n_components=3 \n",
      "[CV]  KNN__n_neighbors=3, features__K_best__k=3, features__pca__n_components=3, score=0.969, total=   0.0s\n",
      "[CV] KNN__n_neighbors=3, features__K_best__k=3, features__pca__n_components=3 \n",
      "[CV]  KNN__n_neighbors=3, features__K_best__k=3, features__pca__n_components=3, score=0.979, total=   0.0s\n",
      "[CV] KNN__n_neighbors=3, features__K_best__k=3, features__pca__n_components=3 \n",
      "[CV]  KNN__n_neighbors=3, features__K_best__k=3, features__pca__n_components=3, score=0.926, total=   0.0s\n",
      "[CV] KNN__n_neighbors=3, features__K_best__k=3, features__pca__n_components=3 \n",
      "[CV]  KNN__n_neighbors=3, features__K_best__k=3, features__pca__n_components=3, score=0.979, total=   0.0s\n",
      "[CV] KNN__n_neighbors=4, features__K_best__k=1, features__pca__n_components=1 \n",
      "[CV]  KNN__n_neighbors=4, features__K_best__k=1, features__pca__n_components=1, score=0.959, total=   0.0s\n",
      "[CV] KNN__n_neighbors=4, features__K_best__k=1, features__pca__n_components=1 \n",
      "[CV]  KNN__n_neighbors=4, features__K_best__k=1, features__pca__n_components=1, score=0.958, total=   0.0s\n",
      "[CV] KNN__n_neighbors=4, features__K_best__k=1, features__pca__n_components=1 \n",
      "[CV]  KNN__n_neighbors=4, features__K_best__k=1, features__pca__n_components=1, score=0.989, total=   0.0s\n",
      "[CV] KNN__n_neighbors=4, features__K_best__k=1, features__pca__n_components=1 \n",
      "[CV]  KNN__n_neighbors=4, features__K_best__k=1, features__pca__n_components=1, score=0.926, total=   0.0s\n",
      "[CV] KNN__n_neighbors=4, features__K_best__k=1, features__pca__n_components=1 \n",
      "[CV]  KNN__n_neighbors=4, features__K_best__k=1, features__pca__n_components=1, score=0.979, total=   0.0s\n",
      "[CV] KNN__n_neighbors=4, features__K_best__k=1, features__pca__n_components=2 \n",
      "[CV]  KNN__n_neighbors=4, features__K_best__k=1, features__pca__n_components=2, score=0.938, total=   0.0s\n",
      "[CV] KNN__n_neighbors=4, features__K_best__k=1, features__pca__n_components=2 \n",
      "[CV]  KNN__n_neighbors=4, features__K_best__k=1, features__pca__n_components=2, score=0.979, total=   0.0s\n",
      "[CV] KNN__n_neighbors=4, features__K_best__k=1, features__pca__n_components=2 \n",
      "[CV]  KNN__n_neighbors=4, features__K_best__k=1, features__pca__n_components=2, score=0.979, total=   0.0s\n",
      "[CV] KNN__n_neighbors=4, features__K_best__k=1, features__pca__n_components=2 \n",
      "[CV]  KNN__n_neighbors=4, features__K_best__k=1, features__pca__n_components=2, score=0.947, total=   0.0s\n",
      "[CV] KNN__n_neighbors=4, features__K_best__k=1, features__pca__n_components=2 \n",
      "[CV]  KNN__n_neighbors=4, features__K_best__k=1, features__pca__n_components=2, score=0.968, total=   0.0s\n",
      "[CV] KNN__n_neighbors=4, features__K_best__k=1, features__pca__n_components=3 \n",
      "[CV]  KNN__n_neighbors=4, features__K_best__k=1, features__pca__n_components=3, score=0.959, total=   0.0s\n",
      "[CV] KNN__n_neighbors=4, features__K_best__k=1, features__pca__n_components=3 \n",
      "[CV]  KNN__n_neighbors=4, features__K_best__k=1, features__pca__n_components=3, score=0.979, total=   0.0s\n",
      "[CV] KNN__n_neighbors=4, features__K_best__k=1, features__pca__n_components=3 \n",
      "[CV]  KNN__n_neighbors=4, features__K_best__k=1, features__pca__n_components=3, score=0.968, total=   0.0s\n",
      "[CV] KNN__n_neighbors=4, features__K_best__k=1, features__pca__n_components=3 \n",
      "[CV]  KNN__n_neighbors=4, features__K_best__k=1, features__pca__n_components=3, score=0.947, total=   0.0s\n",
      "[CV] KNN__n_neighbors=4, features__K_best__k=1, features__pca__n_components=3 \n",
      "[CV]  KNN__n_neighbors=4, features__K_best__k=1, features__pca__n_components=3, score=0.989, total=   0.0s\n",
      "[CV] KNN__n_neighbors=4, features__K_best__k=2, features__pca__n_components=1 \n",
      "[CV]  KNN__n_neighbors=4, features__K_best__k=2, features__pca__n_components=1, score=0.969, total=   0.0s\n",
      "[CV] KNN__n_neighbors=4, features__K_best__k=2, features__pca__n_components=1 \n",
      "[CV]  KNN__n_neighbors=4, features__K_best__k=2, features__pca__n_components=1, score=0.958, total=   0.0s\n",
      "[CV] KNN__n_neighbors=4, features__K_best__k=2, features__pca__n_components=1 \n",
      "[CV]  KNN__n_neighbors=4, features__K_best__k=2, features__pca__n_components=1, score=0.989, total=   0.0s\n",
      "[CV] KNN__n_neighbors=4, features__K_best__k=2, features__pca__n_components=1 \n",
      "[CV]  KNN__n_neighbors=4, features__K_best__k=2, features__pca__n_components=1, score=0.926, total=   0.0s\n",
      "[CV] KNN__n_neighbors=4, features__K_best__k=2, features__pca__n_components=1 \n",
      "[CV]  KNN__n_neighbors=4, features__K_best__k=2, features__pca__n_components=1, score=0.968, total=   0.0s\n",
      "[CV] KNN__n_neighbors=4, features__K_best__k=2, features__pca__n_components=2 \n",
      "[CV]  KNN__n_neighbors=4, features__K_best__k=2, features__pca__n_components=2, score=0.938, total=   0.0s\n",
      "[CV] KNN__n_neighbors=4, features__K_best__k=2, features__pca__n_components=2 \n",
      "[CV]  KNN__n_neighbors=4, features__K_best__k=2, features__pca__n_components=2, score=0.979, total=   0.0s\n",
      "[CV] KNN__n_neighbors=4, features__K_best__k=2, features__pca__n_components=2 \n",
      "[CV]  KNN__n_neighbors=4, features__K_best__k=2, features__pca__n_components=2, score=0.979, total=   0.0s\n",
      "[CV] KNN__n_neighbors=4, features__K_best__k=2, features__pca__n_components=2 \n",
      "[CV]  KNN__n_neighbors=4, features__K_best__k=2, features__pca__n_components=2, score=0.926, total=   0.0s\n",
      "[CV] KNN__n_neighbors=4, features__K_best__k=2, features__pca__n_components=2 \n",
      "[CV]  KNN__n_neighbors=4, features__K_best__k=2, features__pca__n_components=2, score=0.968, total=   0.0s\n",
      "[CV] KNN__n_neighbors=4, features__K_best__k=2, features__pca__n_components=3 \n",
      "[CV]  KNN__n_neighbors=4, features__K_best__k=2, features__pca__n_components=3, score=0.948, total=   0.0s\n",
      "[CV] KNN__n_neighbors=4, features__K_best__k=2, features__pca__n_components=3 \n",
      "[CV]  KNN__n_neighbors=4, features__K_best__k=2, features__pca__n_components=3, score=0.979, total=   0.0s\n",
      "[CV] KNN__n_neighbors=4, features__K_best__k=2, features__pca__n_components=3 \n",
      "[CV]  KNN__n_neighbors=4, features__K_best__k=2, features__pca__n_components=3, score=0.989, total=   0.0s\n",
      "[CV] KNN__n_neighbors=4, features__K_best__k=2, features__pca__n_components=3 \n",
      "[CV]  KNN__n_neighbors=4, features__K_best__k=2, features__pca__n_components=3, score=0.926, total=   0.0s\n",
      "[CV] KNN__n_neighbors=4, features__K_best__k=2, features__pca__n_components=3 \n",
      "[CV]  KNN__n_neighbors=4, features__K_best__k=2, features__pca__n_components=3, score=0.989, total=   0.0s\n",
      "[CV] KNN__n_neighbors=4, features__K_best__k=3, features__pca__n_components=1 \n",
      "[CV]  KNN__n_neighbors=4, features__K_best__k=3, features__pca__n_components=1, score=0.969, total=   0.0s\n",
      "[CV] KNN__n_neighbors=4, features__K_best__k=3, features__pca__n_components=1 \n",
      "[CV]  KNN__n_neighbors=4, features__K_best__k=3, features__pca__n_components=1, score=0.958, total=   0.0s\n",
      "[CV] KNN__n_neighbors=4, features__K_best__k=3, features__pca__n_components=1 \n",
      "[CV]  KNN__n_neighbors=4, features__K_best__k=3, features__pca__n_components=1, score=0.989, total=   0.0s\n",
      "[CV] KNN__n_neighbors=4, features__K_best__k=3, features__pca__n_components=1 \n",
      "[CV]  KNN__n_neighbors=4, features__K_best__k=3, features__pca__n_components=1, score=0.926, total=   0.0s\n",
      "[CV] KNN__n_neighbors=4, features__K_best__k=3, features__pca__n_components=1 \n",
      "[CV]  KNN__n_neighbors=4, features__K_best__k=3, features__pca__n_components=1, score=0.979, total=   0.0s\n",
      "[CV] KNN__n_neighbors=4, features__K_best__k=3, features__pca__n_components=2 \n",
      "[CV]  KNN__n_neighbors=4, features__K_best__k=3, features__pca__n_components=2, score=0.948, total=   0.0s\n",
      "[CV] KNN__n_neighbors=4, features__K_best__k=3, features__pca__n_components=2 \n",
      "[CV]  KNN__n_neighbors=4, features__K_best__k=3, features__pca__n_components=2, score=0.979, total=   0.0s\n",
      "[CV] KNN__n_neighbors=4, features__K_best__k=3, features__pca__n_components=2 \n",
      "[CV]  KNN__n_neighbors=4, features__K_best__k=3, features__pca__n_components=2, score=0.979, total=   0.0s\n",
      "[CV] KNN__n_neighbors=4, features__K_best__k=3, features__pca__n_components=2 \n",
      "[CV]  KNN__n_neighbors=4, features__K_best__k=3, features__pca__n_components=2, score=0.926, total=   0.0s\n",
      "[CV] KNN__n_neighbors=4, features__K_best__k=3, features__pca__n_components=2 \n",
      "[CV]  KNN__n_neighbors=4, features__K_best__k=3, features__pca__n_components=2, score=0.968, total=   0.0s\n",
      "[CV] KNN__n_neighbors=4, features__K_best__k=3, features__pca__n_components=3 \n",
      "[CV]  KNN__n_neighbors=4, features__K_best__k=3, features__pca__n_components=3, score=0.969, total=   0.0s\n",
      "[CV] KNN__n_neighbors=4, features__K_best__k=3, features__pca__n_components=3 \n",
      "[CV]  KNN__n_neighbors=4, features__K_best__k=3, features__pca__n_components=3, score=0.979, total=   0.0s\n",
      "[CV] KNN__n_neighbors=4, features__K_best__k=3, features__pca__n_components=3 \n",
      "[CV]  KNN__n_neighbors=4, features__K_best__k=3, features__pca__n_components=3, score=0.989, total=   0.0s\n",
      "[CV] KNN__n_neighbors=4, features__K_best__k=3, features__pca__n_components=3 \n",
      "[CV]  KNN__n_neighbors=4, features__K_best__k=3, features__pca__n_components=3, score=0.926, total=   0.0s\n",
      "[CV] KNN__n_neighbors=4, features__K_best__k=3, features__pca__n_components=3 \n",
      "[CV]  KNN__n_neighbors=4, features__K_best__k=3, features__pca__n_components=3, score=0.989, total=   0.0s\n",
      "[CV] KNN__n_neighbors=5, features__K_best__k=1, features__pca__n_components=1 \n",
      "[CV]  KNN__n_neighbors=5, features__K_best__k=1, features__pca__n_components=1, score=0.959, total=   0.0s\n",
      "[CV] KNN__n_neighbors=5, features__K_best__k=1, features__pca__n_components=1 \n",
      "[CV]  KNN__n_neighbors=5, features__K_best__k=1, features__pca__n_components=1, score=0.958, total=   0.0s\n",
      "[CV] KNN__n_neighbors=5, features__K_best__k=1, features__pca__n_components=1 \n",
      "[CV]  KNN__n_neighbors=5, features__K_best__k=1, features__pca__n_components=1, score=0.979, total=   0.0s\n",
      "[CV] KNN__n_neighbors=5, features__K_best__k=1, features__pca__n_components=1 \n",
      "[CV]  KNN__n_neighbors=5, features__K_best__k=1, features__pca__n_components=1, score=0.958, total=   0.0s\n",
      "[CV] KNN__n_neighbors=5, features__K_best__k=1, features__pca__n_components=1 \n",
      "[CV]  KNN__n_neighbors=5, features__K_best__k=1, features__pca__n_components=1, score=0.979, total=   0.0s\n",
      "[CV] KNN__n_neighbors=5, features__K_best__k=1, features__pca__n_components=2 \n",
      "[CV]  KNN__n_neighbors=5, features__K_best__k=1, features__pca__n_components=2, score=0.938, total=   0.0s\n",
      "[CV] KNN__n_neighbors=5, features__K_best__k=1, features__pca__n_components=2 \n",
      "[CV]  KNN__n_neighbors=5, features__K_best__k=1, features__pca__n_components=2, score=0.979, total=   0.0s\n",
      "[CV] KNN__n_neighbors=5, features__K_best__k=1, features__pca__n_components=2 \n",
      "[CV]  KNN__n_neighbors=5, features__K_best__k=1, features__pca__n_components=2, score=0.979, total=   0.0s\n",
      "[CV] KNN__n_neighbors=5, features__K_best__k=1, features__pca__n_components=2 \n",
      "[CV]  KNN__n_neighbors=5, features__K_best__k=1, features__pca__n_components=2, score=0.947, total=   0.0s\n",
      "[CV] KNN__n_neighbors=5, features__K_best__k=1, features__pca__n_components=2 \n",
      "[CV]  KNN__n_neighbors=5, features__K_best__k=1, features__pca__n_components=2, score=0.979, total=   0.0s\n",
      "[CV] KNN__n_neighbors=5, features__K_best__k=1, features__pca__n_components=3 \n",
      "[CV]  KNN__n_neighbors=5, features__K_best__k=1, features__pca__n_components=3, score=0.969, total=   0.0s\n",
      "[CV] KNN__n_neighbors=5, features__K_best__k=1, features__pca__n_components=3 \n",
      "[CV]  KNN__n_neighbors=5, features__K_best__k=1, features__pca__n_components=3, score=0.979, total=   0.0s\n",
      "[CV] KNN__n_neighbors=5, features__K_best__k=1, features__pca__n_components=3 \n",
      "[CV]  KNN__n_neighbors=5, features__K_best__k=1, features__pca__n_components=3, score=0.989, total=   0.0s\n",
      "[CV] KNN__n_neighbors=5, features__K_best__k=1, features__pca__n_components=3 \n",
      "[CV]  KNN__n_neighbors=5, features__K_best__k=1, features__pca__n_components=3, score=0.947, total=   0.0s\n",
      "[CV] KNN__n_neighbors=5, features__K_best__k=1, features__pca__n_components=3 \n",
      "[CV]  KNN__n_neighbors=5, features__K_best__k=1, features__pca__n_components=3, score=0.989, total=   0.0s\n",
      "[CV] KNN__n_neighbors=5, features__K_best__k=2, features__pca__n_components=1 \n",
      "[CV]  KNN__n_neighbors=5, features__K_best__k=2, features__pca__n_components=1, score=0.969, total=   0.0s\n",
      "[CV] KNN__n_neighbors=5, features__K_best__k=2, features__pca__n_components=1 \n",
      "[CV]  KNN__n_neighbors=5, features__K_best__k=2, features__pca__n_components=1, score=0.969, total=   0.0s\n",
      "[CV] KNN__n_neighbors=5, features__K_best__k=2, features__pca__n_components=1 \n",
      "[CV]  KNN__n_neighbors=5, features__K_best__k=2, features__pca__n_components=1, score=0.979, total=   0.0s\n",
      "[CV] KNN__n_neighbors=5, features__K_best__k=2, features__pca__n_components=1 \n",
      "[CV]  KNN__n_neighbors=5, features__K_best__k=2, features__pca__n_components=1, score=0.937, total=   0.0s\n",
      "[CV] KNN__n_neighbors=5, features__K_best__k=2, features__pca__n_components=1 \n",
      "[CV]  KNN__n_neighbors=5, features__K_best__k=2, features__pca__n_components=1, score=0.968, total=   0.0s\n",
      "[CV] KNN__n_neighbors=5, features__K_best__k=2, features__pca__n_components=2 \n",
      "[CV]  KNN__n_neighbors=5, features__K_best__k=2, features__pca__n_components=2, score=0.969, total=   0.0s\n",
      "[CV] KNN__n_neighbors=5, features__K_best__k=2, features__pca__n_components=2 \n",
      "[CV]  KNN__n_neighbors=5, features__K_best__k=2, features__pca__n_components=2, score=0.979, total=   0.0s\n",
      "[CV] KNN__n_neighbors=5, features__K_best__k=2, features__pca__n_components=2 \n",
      "[CV]  KNN__n_neighbors=5, features__K_best__k=2, features__pca__n_components=2, score=0.979, total=   0.0s\n",
      "[CV] KNN__n_neighbors=5, features__K_best__k=2, features__pca__n_components=2 \n",
      "[CV]  KNN__n_neighbors=5, features__K_best__k=2, features__pca__n_components=2, score=0.947, total=   0.0s\n",
      "[CV] KNN__n_neighbors=5, features__K_best__k=2, features__pca__n_components=2 \n",
      "[CV]  KNN__n_neighbors=5, features__K_best__k=2, features__pca__n_components=2, score=0.979, total=   0.0s\n",
      "[CV] KNN__n_neighbors=5, features__K_best__k=2, features__pca__n_components=3 \n",
      "[CV]  KNN__n_neighbors=5, features__K_best__k=2, features__pca__n_components=3, score=0.959, total=   0.0s\n",
      "[CV] KNN__n_neighbors=5, features__K_best__k=2, features__pca__n_components=3 \n",
      "[CV]  KNN__n_neighbors=5, features__K_best__k=2, features__pca__n_components=3, score=0.969, total=   0.0s\n",
      "[CV] KNN__n_neighbors=5, features__K_best__k=2, features__pca__n_components=3 \n",
      "[CV]  KNN__n_neighbors=5, features__K_best__k=2, features__pca__n_components=3, score=0.989, total=   0.0s\n",
      "[CV] KNN__n_neighbors=5, features__K_best__k=2, features__pca__n_components=3 \n",
      "[CV]  KNN__n_neighbors=5, features__K_best__k=2, features__pca__n_components=3, score=0.937, total=   0.0s\n",
      "[CV] KNN__n_neighbors=5, features__K_best__k=2, features__pca__n_components=3 \n",
      "[CV]  KNN__n_neighbors=5, features__K_best__k=2, features__pca__n_components=3, score=0.979, total=   0.0s\n",
      "[CV] KNN__n_neighbors=5, features__K_best__k=3, features__pca__n_components=1 \n",
      "[CV]  KNN__n_neighbors=5, features__K_best__k=3, features__pca__n_components=1, score=0.959, total=   0.0s\n",
      "[CV] KNN__n_neighbors=5, features__K_best__k=3, features__pca__n_components=1 \n",
      "[CV]  KNN__n_neighbors=5, features__K_best__k=3, features__pca__n_components=1, score=0.969, total=   0.0s\n",
      "[CV] KNN__n_neighbors=5, features__K_best__k=3, features__pca__n_components=1 \n",
      "[CV]  KNN__n_neighbors=5, features__K_best__k=3, features__pca__n_components=1, score=0.989, total=   0.0s\n",
      "[CV] KNN__n_neighbors=5, features__K_best__k=3, features__pca__n_components=1 \n",
      "[CV]  KNN__n_neighbors=5, features__K_best__k=3, features__pca__n_components=1, score=0.937, total=   0.0s\n",
      "[CV] KNN__n_neighbors=5, features__K_best__k=3, features__pca__n_components=1 \n",
      "[CV]  KNN__n_neighbors=5, features__K_best__k=3, features__pca__n_components=1, score=0.979, total=   0.0s\n",
      "[CV] KNN__n_neighbors=5, features__K_best__k=3, features__pca__n_components=2 \n",
      "[CV]  KNN__n_neighbors=5, features__K_best__k=3, features__pca__n_components=2, score=0.959, total=   0.0s\n",
      "[CV] KNN__n_neighbors=5, features__K_best__k=3, features__pca__n_components=2 \n",
      "[CV]  KNN__n_neighbors=5, features__K_best__k=3, features__pca__n_components=2, score=0.979, total=   0.0s\n",
      "[CV] KNN__n_neighbors=5, features__K_best__k=3, features__pca__n_components=2 \n",
      "[CV]  KNN__n_neighbors=5, features__K_best__k=3, features__pca__n_components=2, score=0.989, total=   0.0s\n",
      "[CV] KNN__n_neighbors=5, features__K_best__k=3, features__pca__n_components=2 \n",
      "[CV]  KNN__n_neighbors=5, features__K_best__k=3, features__pca__n_components=2, score=0.937, total=   0.0s\n",
      "[CV] KNN__n_neighbors=5, features__K_best__k=3, features__pca__n_components=2 \n",
      "[CV]  KNN__n_neighbors=5, features__K_best__k=3, features__pca__n_components=2, score=0.979, total=   0.0s\n",
      "[CV] KNN__n_neighbors=5, features__K_best__k=3, features__pca__n_components=3 \n",
      "[CV]  KNN__n_neighbors=5, features__K_best__k=3, features__pca__n_components=3, score=0.959, total=   0.0s\n",
      "[CV] KNN__n_neighbors=5, features__K_best__k=3, features__pca__n_components=3 \n",
      "[CV]  KNN__n_neighbors=5, features__K_best__k=3, features__pca__n_components=3, score=0.979, total=   0.0s\n",
      "[CV] KNN__n_neighbors=5, features__K_best__k=3, features__pca__n_components=3 \n",
      "[CV]  KNN__n_neighbors=5, features__K_best__k=3, features__pca__n_components=3, score=0.989, total=   0.0s\n",
      "[CV] KNN__n_neighbors=5, features__K_best__k=3, features__pca__n_components=3 \n",
      "[CV]  KNN__n_neighbors=5, features__K_best__k=3, features__pca__n_components=3, score=0.937, total=   0.0s\n",
      "[CV] KNN__n_neighbors=5, features__K_best__k=3, features__pca__n_components=3 \n",
      "[CV]  KNN__n_neighbors=5, features__K_best__k=3, features__pca__n_components=3, score=0.979, total=   0.0s\n",
      "[CV] KNN__n_neighbors=6, features__K_best__k=1, features__pca__n_components=1 \n",
      "[CV]  KNN__n_neighbors=6, features__K_best__k=1, features__pca__n_components=1, score=0.948, total=   0.0s\n",
      "[CV] KNN__n_neighbors=6, features__K_best__k=1, features__pca__n_components=1 \n",
      "[CV]  KNN__n_neighbors=6, features__K_best__k=1, features__pca__n_components=1, score=0.958, total=   0.0s\n",
      "[CV] KNN__n_neighbors=6, features__K_best__k=1, features__pca__n_components=1 \n",
      "[CV]  KNN__n_neighbors=6, features__K_best__k=1, features__pca__n_components=1, score=0.968, total=   0.0s\n",
      "[CV] KNN__n_neighbors=6, features__K_best__k=1, features__pca__n_components=1 \n",
      "[CV]  KNN__n_neighbors=6, features__K_best__k=1, features__pca__n_components=1, score=0.937, total=   0.0s\n",
      "[CV] KNN__n_neighbors=6, features__K_best__k=1, features__pca__n_components=1 \n",
      "[CV]  KNN__n_neighbors=6, features__K_best__k=1, features__pca__n_components=1, score=0.989, total=   0.0s\n",
      "[CV] KNN__n_neighbors=6, features__K_best__k=1, features__pca__n_components=2 \n",
      "[CV]  KNN__n_neighbors=6, features__K_best__k=1, features__pca__n_components=2, score=0.948, total=   0.0s\n",
      "[CV] KNN__n_neighbors=6, features__K_best__k=1, features__pca__n_components=2 \n",
      "[CV]  KNN__n_neighbors=6, features__K_best__k=1, features__pca__n_components=2, score=0.979, total=   0.0s\n",
      "[CV] KNN__n_neighbors=6, features__K_best__k=1, features__pca__n_components=2 \n",
      "[CV]  KNN__n_neighbors=6, features__K_best__k=1, features__pca__n_components=2, score=0.979, total=   0.0s\n",
      "[CV] KNN__n_neighbors=6, features__K_best__k=1, features__pca__n_components=2 \n",
      "[CV]  KNN__n_neighbors=6, features__K_best__k=1, features__pca__n_components=2, score=0.937, total=   0.0s\n",
      "[CV] KNN__n_neighbors=6, features__K_best__k=1, features__pca__n_components=2 \n",
      "[CV]  KNN__n_neighbors=6, features__K_best__k=1, features__pca__n_components=2, score=0.979, total=   0.0s\n",
      "[CV] KNN__n_neighbors=6, features__K_best__k=1, features__pca__n_components=3 \n",
      "[CV]  KNN__n_neighbors=6, features__K_best__k=1, features__pca__n_components=3, score=0.959, total=   0.0s\n",
      "[CV] KNN__n_neighbors=6, features__K_best__k=1, features__pca__n_components=3 \n",
      "[CV]  KNN__n_neighbors=6, features__K_best__k=1, features__pca__n_components=3, score=0.969, total=   0.0s\n",
      "[CV] KNN__n_neighbors=6, features__K_best__k=1, features__pca__n_components=3 \n",
      "[CV]  KNN__n_neighbors=6, features__K_best__k=1, features__pca__n_components=3, score=0.968, total=   0.0s\n",
      "[CV] KNN__n_neighbors=6, features__K_best__k=1, features__pca__n_components=3 \n",
      "[CV]  KNN__n_neighbors=6, features__K_best__k=1, features__pca__n_components=3, score=0.937, total=   0.0s\n",
      "[CV] KNN__n_neighbors=6, features__K_best__k=1, features__pca__n_components=3 \n",
      "[CV]  KNN__n_neighbors=6, features__K_best__k=1, features__pca__n_components=3, score=0.989, total=   0.0s\n",
      "[CV] KNN__n_neighbors=6, features__K_best__k=2, features__pca__n_components=1 \n",
      "[CV]  KNN__n_neighbors=6, features__K_best__k=2, features__pca__n_components=1, score=0.969, total=   0.0s\n",
      "[CV] KNN__n_neighbors=6, features__K_best__k=2, features__pca__n_components=1 \n",
      "[CV]  KNN__n_neighbors=6, features__K_best__k=2, features__pca__n_components=1, score=0.979, total=   0.0s\n",
      "[CV] KNN__n_neighbors=6, features__K_best__k=2, features__pca__n_components=1 \n",
      "[CV]  KNN__n_neighbors=6, features__K_best__k=2, features__pca__n_components=1, score=0.979, total=   0.0s\n",
      "[CV] KNN__n_neighbors=6, features__K_best__k=2, features__pca__n_components=1 \n",
      "[CV]  KNN__n_neighbors=6, features__K_best__k=2, features__pca__n_components=1, score=0.937, total=   0.0s\n",
      "[CV] KNN__n_neighbors=6, features__K_best__k=2, features__pca__n_components=1 \n",
      "[CV]  KNN__n_neighbors=6, features__K_best__k=2, features__pca__n_components=1, score=0.979, total=   0.0s\n",
      "[CV] KNN__n_neighbors=6, features__K_best__k=2, features__pca__n_components=2 \n",
      "[CV]  KNN__n_neighbors=6, features__K_best__k=2, features__pca__n_components=2, score=0.959, total=   0.0s\n",
      "[CV] KNN__n_neighbors=6, features__K_best__k=2, features__pca__n_components=2 \n",
      "[CV]  KNN__n_neighbors=6, features__K_best__k=2, features__pca__n_components=2, score=0.979, total=   0.0s\n",
      "[CV] KNN__n_neighbors=6, features__K_best__k=2, features__pca__n_components=2 \n",
      "[CV]  KNN__n_neighbors=6, features__K_best__k=2, features__pca__n_components=2, score=0.979, total=   0.0s\n",
      "[CV] KNN__n_neighbors=6, features__K_best__k=2, features__pca__n_components=2 \n",
      "[CV]  KNN__n_neighbors=6, features__K_best__k=2, features__pca__n_components=2, score=0.937, total=   0.0s\n",
      "[CV] KNN__n_neighbors=6, features__K_best__k=2, features__pca__n_components=2 \n",
      "[CV]  KNN__n_neighbors=6, features__K_best__k=2, features__pca__n_components=2, score=0.968, total=   0.0s\n",
      "[CV] KNN__n_neighbors=6, features__K_best__k=2, features__pca__n_components=3 \n",
      "[CV]  KNN__n_neighbors=6, features__K_best__k=2, features__pca__n_components=3, score=0.959, total=   0.0s\n",
      "[CV] KNN__n_neighbors=6, features__K_best__k=2, features__pca__n_components=3 \n",
      "[CV]  KNN__n_neighbors=6, features__K_best__k=2, features__pca__n_components=3, score=0.969, total=   0.0s\n",
      "[CV] KNN__n_neighbors=6, features__K_best__k=2, features__pca__n_components=3 \n",
      "[CV]  KNN__n_neighbors=6, features__K_best__k=2, features__pca__n_components=3, score=0.968, total=   0.0s\n",
      "[CV] KNN__n_neighbors=6, features__K_best__k=2, features__pca__n_components=3 \n",
      "[CV]  KNN__n_neighbors=6, features__K_best__k=2, features__pca__n_components=3, score=0.926, total=   0.0s\n",
      "[CV] KNN__n_neighbors=6, features__K_best__k=2, features__pca__n_components=3 \n",
      "[CV]  KNN__n_neighbors=6, features__K_best__k=2, features__pca__n_components=3, score=0.979, total=   0.0s\n",
      "[CV] KNN__n_neighbors=6, features__K_best__k=3, features__pca__n_components=1 \n",
      "[CV]  KNN__n_neighbors=6, features__K_best__k=3, features__pca__n_components=1, score=0.959, total=   0.0s\n",
      "[CV] KNN__n_neighbors=6, features__K_best__k=3, features__pca__n_components=1 \n",
      "[CV]  KNN__n_neighbors=6, features__K_best__k=3, features__pca__n_components=1, score=0.979, total=   0.0s\n",
      "[CV] KNN__n_neighbors=6, features__K_best__k=3, features__pca__n_components=1 \n",
      "[CV]  KNN__n_neighbors=6, features__K_best__k=3, features__pca__n_components=1, score=0.989, total=   0.0s\n",
      "[CV] KNN__n_neighbors=6, features__K_best__k=3, features__pca__n_components=1 \n",
      "[CV]  KNN__n_neighbors=6, features__K_best__k=3, features__pca__n_components=1, score=0.937, total=   0.0s\n",
      "[CV] KNN__n_neighbors=6, features__K_best__k=3, features__pca__n_components=1 \n",
      "[CV]  KNN__n_neighbors=6, features__K_best__k=3, features__pca__n_components=1, score=0.989, total=   0.0s\n",
      "[CV] KNN__n_neighbors=6, features__K_best__k=3, features__pca__n_components=2 \n",
      "[CV]  KNN__n_neighbors=6, features__K_best__k=3, features__pca__n_components=2, score=0.959, total=   0.0s\n",
      "[CV] KNN__n_neighbors=6, features__K_best__k=3, features__pca__n_components=2 \n",
      "[CV]  KNN__n_neighbors=6, features__K_best__k=3, features__pca__n_components=2, score=0.979, total=   0.0s\n",
      "[CV] KNN__n_neighbors=6, features__K_best__k=3, features__pca__n_components=2 \n",
      "[CV]  KNN__n_neighbors=6, features__K_best__k=3, features__pca__n_components=2, score=0.989, total=   0.0s\n",
      "[CV] KNN__n_neighbors=6, features__K_best__k=3, features__pca__n_components=2 \n",
      "[CV]  KNN__n_neighbors=6, features__K_best__k=3, features__pca__n_components=2, score=0.926, total=   0.0s\n",
      "[CV] KNN__n_neighbors=6, features__K_best__k=3, features__pca__n_components=2 \n",
      "[CV]  KNN__n_neighbors=6, features__K_best__k=3, features__pca__n_components=2, score=0.968, total=   0.0s\n",
      "[CV] KNN__n_neighbors=6, features__K_best__k=3, features__pca__n_components=3 \n",
      "[CV]  KNN__n_neighbors=6, features__K_best__k=3, features__pca__n_components=3, score=0.969, total=   0.0s\n",
      "[CV] KNN__n_neighbors=6, features__K_best__k=3, features__pca__n_components=3 \n",
      "[CV]  KNN__n_neighbors=6, features__K_best__k=3, features__pca__n_components=3, score=0.979, total=   0.0s\n",
      "[CV] KNN__n_neighbors=6, features__K_best__k=3, features__pca__n_components=3 \n",
      "[CV]  KNN__n_neighbors=6, features__K_best__k=3, features__pca__n_components=3, score=0.989, total=   0.0s\n",
      "[CV] KNN__n_neighbors=6, features__K_best__k=3, features__pca__n_components=3 \n",
      "[CV]  KNN__n_neighbors=6, features__K_best__k=3, features__pca__n_components=3, score=0.926, total=   0.0s\n",
      "[CV] KNN__n_neighbors=6, features__K_best__k=3, features__pca__n_components=3 \n",
      "[CV]  KNN__n_neighbors=6, features__K_best__k=3, features__pca__n_components=3, score=0.979, total=   0.0s\n",
      "[CV] KNN__n_neighbors=8, features__K_best__k=1, features__pca__n_components=1 \n",
      "[CV]  KNN__n_neighbors=8, features__K_best__k=1, features__pca__n_components=1, score=0.959, total=   0.0s\n",
      "[CV] KNN__n_neighbors=8, features__K_best__k=1, features__pca__n_components=1 \n",
      "[CV]  KNN__n_neighbors=8, features__K_best__k=1, features__pca__n_components=1, score=0.958, total=   0.0s\n",
      "[CV] KNN__n_neighbors=8, features__K_best__k=1, features__pca__n_components=1 \n",
      "[CV]  KNN__n_neighbors=8, features__K_best__k=1, features__pca__n_components=1, score=0.979, total=   0.0s\n",
      "[CV] KNN__n_neighbors=8, features__K_best__k=1, features__pca__n_components=1 \n",
      "[CV]  KNN__n_neighbors=8, features__K_best__k=1, features__pca__n_components=1, score=0.937, total=   0.0s\n",
      "[CV] KNN__n_neighbors=8, features__K_best__k=1, features__pca__n_components=1 \n",
      "[CV]  KNN__n_neighbors=8, features__K_best__k=1, features__pca__n_components=1, score=0.989, total=   0.0s\n",
      "[CV] KNN__n_neighbors=8, features__K_best__k=1, features__pca__n_components=2 \n",
      "[CV]  KNN__n_neighbors=8, features__K_best__k=1, features__pca__n_components=2, score=0.959, total=   0.0s\n",
      "[CV] KNN__n_neighbors=8, features__K_best__k=1, features__pca__n_components=2 \n",
      "[CV]  KNN__n_neighbors=8, features__K_best__k=1, features__pca__n_components=2, score=0.979, total=   0.0s\n",
      "[CV] KNN__n_neighbors=8, features__K_best__k=1, features__pca__n_components=2 \n",
      "[CV]  KNN__n_neighbors=8, features__K_best__k=1, features__pca__n_components=2, score=0.989, total=   0.0s\n",
      "[CV] KNN__n_neighbors=8, features__K_best__k=1, features__pca__n_components=2 \n",
      "[CV]  KNN__n_neighbors=8, features__K_best__k=1, features__pca__n_components=2, score=0.937, total=   0.0s\n",
      "[CV] KNN__n_neighbors=8, features__K_best__k=1, features__pca__n_components=2 \n",
      "[CV]  KNN__n_neighbors=8, features__K_best__k=1, features__pca__n_components=2, score=0.989, total=   0.0s\n",
      "[CV] KNN__n_neighbors=8, features__K_best__k=1, features__pca__n_components=3 \n",
      "[CV]  KNN__n_neighbors=8, features__K_best__k=1, features__pca__n_components=3, score=0.959, total=   0.0s\n",
      "[CV] KNN__n_neighbors=8, features__K_best__k=1, features__pca__n_components=3 \n",
      "[CV]  KNN__n_neighbors=8, features__K_best__k=1, features__pca__n_components=3, score=0.969, total=   0.0s\n",
      "[CV] KNN__n_neighbors=8, features__K_best__k=1, features__pca__n_components=3 \n",
      "[CV]  KNN__n_neighbors=8, features__K_best__k=1, features__pca__n_components=3, score=0.968, total=   0.0s\n",
      "[CV] KNN__n_neighbors=8, features__K_best__k=1, features__pca__n_components=3 \n",
      "[CV]  KNN__n_neighbors=8, features__K_best__k=1, features__pca__n_components=3, score=0.947, total=   0.0s\n",
      "[CV] KNN__n_neighbors=8, features__K_best__k=1, features__pca__n_components=3 \n",
      "[CV]  KNN__n_neighbors=8, features__K_best__k=1, features__pca__n_components=3, score=0.989, total=   0.0s\n",
      "[CV] KNN__n_neighbors=8, features__K_best__k=2, features__pca__n_components=1 \n",
      "[CV]  KNN__n_neighbors=8, features__K_best__k=2, features__pca__n_components=1, score=0.969, total=   0.0s\n",
      "[CV] KNN__n_neighbors=8, features__K_best__k=2, features__pca__n_components=1 \n",
      "[CV]  KNN__n_neighbors=8, features__K_best__k=2, features__pca__n_components=1, score=0.969, total=   0.0s\n",
      "[CV] KNN__n_neighbors=8, features__K_best__k=2, features__pca__n_components=1 \n",
      "[CV]  KNN__n_neighbors=8, features__K_best__k=2, features__pca__n_components=1, score=0.979, total=   0.0s\n",
      "[CV] KNN__n_neighbors=8, features__K_best__k=2, features__pca__n_components=1 \n",
      "[CV]  KNN__n_neighbors=8, features__K_best__k=2, features__pca__n_components=1, score=0.937, total=   0.0s\n",
      "[CV] KNN__n_neighbors=8, features__K_best__k=2, features__pca__n_components=1 \n",
      "[CV]  KNN__n_neighbors=8, features__K_best__k=2, features__pca__n_components=1, score=0.979, total=   0.0s\n",
      "[CV] KNN__n_neighbors=8, features__K_best__k=2, features__pca__n_components=2 \n",
      "[CV]  KNN__n_neighbors=8, features__K_best__k=2, features__pca__n_components=2, score=0.959, total=   0.0s\n",
      "[CV] KNN__n_neighbors=8, features__K_best__k=2, features__pca__n_components=2 \n",
      "[CV]  KNN__n_neighbors=8, features__K_best__k=2, features__pca__n_components=2, score=0.969, total=   0.0s\n",
      "[CV] KNN__n_neighbors=8, features__K_best__k=2, features__pca__n_components=2 \n",
      "[CV]  KNN__n_neighbors=8, features__K_best__k=2, features__pca__n_components=2, score=0.989, total=   0.0s\n",
      "[CV] KNN__n_neighbors=8, features__K_best__k=2, features__pca__n_components=2 \n",
      "[CV]  KNN__n_neighbors=8, features__K_best__k=2, features__pca__n_components=2, score=0.926, total=   0.0s\n",
      "[CV] KNN__n_neighbors=8, features__K_best__k=2, features__pca__n_components=2 \n",
      "[CV]  KNN__n_neighbors=8, features__K_best__k=2, features__pca__n_components=2, score=0.989, total=   0.0s\n",
      "[CV] KNN__n_neighbors=8, features__K_best__k=2, features__pca__n_components=3 \n",
      "[CV]  KNN__n_neighbors=8, features__K_best__k=2, features__pca__n_components=3, score=0.959, total=   0.0s\n",
      "[CV] KNN__n_neighbors=8, features__K_best__k=2, features__pca__n_components=3 \n",
      "[CV]  KNN__n_neighbors=8, features__K_best__k=2, features__pca__n_components=3, score=0.969, total=   0.0s\n",
      "[CV] KNN__n_neighbors=8, features__K_best__k=2, features__pca__n_components=3 \n",
      "[CV]  KNN__n_neighbors=8, features__K_best__k=2, features__pca__n_components=3, score=0.989, total=   0.0s\n",
      "[CV] KNN__n_neighbors=8, features__K_best__k=2, features__pca__n_components=3 \n",
      "[CV]  KNN__n_neighbors=8, features__K_best__k=2, features__pca__n_components=3, score=0.926, total=   0.0s\n",
      "[CV] KNN__n_neighbors=8, features__K_best__k=2, features__pca__n_components=3 \n",
      "[CV]  KNN__n_neighbors=8, features__K_best__k=2, features__pca__n_components=3, score=0.989, total=   0.0s\n",
      "[CV] KNN__n_neighbors=8, features__K_best__k=3, features__pca__n_components=1 \n",
      "[CV]  KNN__n_neighbors=8, features__K_best__k=3, features__pca__n_components=1, score=0.969, total=   0.0s\n",
      "[CV] KNN__n_neighbors=8, features__K_best__k=3, features__pca__n_components=1 \n",
      "[CV]  KNN__n_neighbors=8, features__K_best__k=3, features__pca__n_components=1, score=0.969, total=   0.0s\n",
      "[CV] KNN__n_neighbors=8, features__K_best__k=3, features__pca__n_components=1 \n",
      "[CV]  KNN__n_neighbors=8, features__K_best__k=3, features__pca__n_components=1, score=0.989, total=   0.0s\n",
      "[CV] KNN__n_neighbors=8, features__K_best__k=3, features__pca__n_components=1 \n",
      "[CV]  KNN__n_neighbors=8, features__K_best__k=3, features__pca__n_components=1, score=0.926, total=   0.0s\n",
      "[CV] KNN__n_neighbors=8, features__K_best__k=3, features__pca__n_components=1 \n",
      "[CV]  KNN__n_neighbors=8, features__K_best__k=3, features__pca__n_components=1, score=0.979, total=   0.0s\n",
      "[CV] KNN__n_neighbors=8, features__K_best__k=3, features__pca__n_components=2 \n",
      "[CV]  KNN__n_neighbors=8, features__K_best__k=3, features__pca__n_components=2, score=0.959, total=   0.0s\n",
      "[CV] KNN__n_neighbors=8, features__K_best__k=3, features__pca__n_components=2 \n",
      "[CV]  KNN__n_neighbors=8, features__K_best__k=3, features__pca__n_components=2, score=0.979, total=   0.0s\n",
      "[CV] KNN__n_neighbors=8, features__K_best__k=3, features__pca__n_components=2 \n",
      "[CV]  KNN__n_neighbors=8, features__K_best__k=3, features__pca__n_components=2, score=0.989, total=   0.0s\n",
      "[CV] KNN__n_neighbors=8, features__K_best__k=3, features__pca__n_components=2 \n",
      "[CV]  KNN__n_neighbors=8, features__K_best__k=3, features__pca__n_components=2, score=0.926, total=   0.0s\n",
      "[CV] KNN__n_neighbors=8, features__K_best__k=3, features__pca__n_components=2 \n",
      "[CV]  KNN__n_neighbors=8, features__K_best__k=3, features__pca__n_components=2, score=0.989, total=   0.0s\n",
      "[CV] KNN__n_neighbors=8, features__K_best__k=3, features__pca__n_components=3 \n",
      "[CV]  KNN__n_neighbors=8, features__K_best__k=3, features__pca__n_components=3, score=0.979, total=   0.0s\n",
      "[CV] KNN__n_neighbors=8, features__K_best__k=3, features__pca__n_components=3 \n",
      "[CV]  KNN__n_neighbors=8, features__K_best__k=3, features__pca__n_components=3, score=0.969, total=   0.0s\n",
      "[CV] KNN__n_neighbors=8, features__K_best__k=3, features__pca__n_components=3 \n",
      "[CV]  KNN__n_neighbors=8, features__K_best__k=3, features__pca__n_components=3, score=0.989, total=   0.0s\n",
      "[CV] KNN__n_neighbors=8, features__K_best__k=3, features__pca__n_components=3 \n",
      "[CV]  KNN__n_neighbors=8, features__K_best__k=3, features__pca__n_components=3, score=0.926, total=   0.0s\n",
      "[CV] KNN__n_neighbors=8, features__K_best__k=3, features__pca__n_components=3 \n",
      "[CV]  KNN__n_neighbors=8, features__K_best__k=3, features__pca__n_components=3, score=0.989, total=   0.0s\n",
      "The accuracy of the best KNeighborsClassifier is: 0.970732\n",
      "The recall of the best KNeighborsClassifier is: 0.968958\n",
      "The precision of the best KNeighborsClassifier is: 0.968958\n"
     ]
    },
    {
     "name": "stderr",
     "output_type": "stream",
     "text": [
      "[Parallel(n_jobs=1)]: Done 270 out of 270 | elapsed:    3.4s finished\n"
     ]
    }
   ],
   "source": [
    "from sklearn.pipeline import Pipeline, FeatureUnion\n",
    "from sklearn.decomposition import PCA\n",
    "from sklearn.model_selection import GridSearchCV\n",
    "from sklearn.model_selection import StratifiedKFold\n",
    "from sklearn.metrics import recall_score\n",
    "from sklearn.metrics import precision_score\n",
    "from sklearn.metrics import accuracy_score\n",
    "\n",
    "features_train, features_test, labels_train, labels_test = \\\n",
    "        train_test_split(X, Y, test_size=0.3, random_state=42)\n",
    "\n",
    "pca = PCA ()\n",
    "selection = SelectKBest ()\n",
    "combined_features = FeatureUnion([(\"pca\", pca), (\"K_best\", selection)])\n",
    "\n",
    "\n",
    "KNN= KNeighborsClassifier()\n",
    "param_grid = dict(features__pca__n_components = [1, 2, 3],\n",
    "                  features__K_best__k = [1, 2, 3],\n",
    "                  KNN__n_neighbors = [2, 3 , 4, 5, 6, 8])\n",
    "\n",
    "pipeline = Pipeline([(\"features\", combined_features), (\"KNN\", KNN)])\n",
    "\n",
    "KNN_clf = GridSearchCV(pipeline,\n",
    "                    param_grid=param_grid,\n",
    "                    cv = StratifiedKFold(n_splits=5, shuffle=True, random_state=42),\n",
    "                    verbose=10)\n",
    "\n",
    "KNN_clf = KNN_clf.fit(features_train, labels_train)\n",
    "# print (KNN_clf.best_estimator_)\n",
    "KNN_pred = KNN_clf.predict(features_test)\n",
    "accuracy = accuracy_score(labels_test, KNN_pred)\n",
    "recall = recall_score(labels_test, KNN_pred, average = 'macro')\n",
    "precision = precision_score(labels_test, KNN_pred, average = 'macro')\n",
    "print (\"The accuracy of the best KNeighborsClassifier is: %f\" % (accuracy))\n",
    "print (\"The recall of the best KNeighborsClassifier is: %f\" % (recall))\n",
    "print (\"The precision of the best KNeighborsClassifier is: %f\" % (precision))\n"
   ]
  },
  {
   "cell_type": "markdown",
   "metadata": {
    "colab_type": "text",
    "id": "M9iCINPhaQSD"
   },
   "source": [
    "* Cross_validation for lSVC"
   ]
  },
  {
   "cell_type": "code",
   "execution_count": 0,
   "metadata": {
    "colab": {
     "base_uri": "https://localhost:8080/",
     "height": 1000
    },
    "colab_type": "code",
    "executionInfo": {
     "elapsed": 18594,
     "status": "ok",
     "timestamp": 1562133964444,
     "user": {
      "displayName": "Penny Gao",
      "photoUrl": "https://lh3.googleusercontent.com/-gQzVWxqbnp4/AAAAAAAAAAI/AAAAAAAAAHc/n3xQplCzb_Q/s64/photo.jpg",
      "userId": "16943984884699102557"
     },
     "user_tz": 420
    },
    "id": "ui1GcWdnaS-f",
    "outputId": "d8689aed-c489-4dba-90f1-f73911bafa2c"
   },
   "outputs": [
    {
     "name": "stdout",
     "output_type": "stream",
     "text": [
      "Fitting 5 folds for each of 24 candidates, totalling 120 fits\n",
      "[CV] C=0.5, kernel=linear, tol=0.1 ...................................\n",
      "[CV] ....... C=0.5, kernel=linear, tol=0.1, score=0.959, total=   0.0s\n",
      "[CV] C=0.5, kernel=linear, tol=0.1 ...................................\n",
      "[CV] ....... C=0.5, kernel=linear, tol=0.1, score=0.958, total=   0.0s\n",
      "[CV] C=0.5, kernel=linear, tol=0.1 ...................................\n",
      "[CV] ....... C=0.5, kernel=linear, tol=0.1, score=0.979, total=   0.0s\n",
      "[CV] C=0.5, kernel=linear, tol=0.1 ...................................\n",
      "[CV] ....... C=0.5, kernel=linear, tol=0.1, score=0.937, total=   0.0s\n",
      "[CV] C=0.5, kernel=linear, tol=0.1 ...................................\n",
      "[CV] ....... C=0.5, kernel=linear, tol=0.1, score=0.989, total=   0.0s\n",
      "[CV] C=0.5, kernel=linear, tol=1e-10 .................................\n",
      "[CV] ..... C=0.5, kernel=linear, tol=1e-10, score=0.959, total=   0.0s\n",
      "[CV] C=0.5, kernel=linear, tol=1e-10 .................................\n",
      "[CV] ..... C=0.5, kernel=linear, tol=1e-10, score=0.958, total=   0.0s\n",
      "[CV] C=0.5, kernel=linear, tol=1e-10 .................................\n",
      "[CV] ..... C=0.5, kernel=linear, tol=1e-10, score=0.979, total=   0.0s\n",
      "[CV] C=0.5, kernel=linear, tol=1e-10 .................................\n",
      "[CV] ..... C=0.5, kernel=linear, tol=1e-10, score=0.937, total=   0.0s\n",
      "[CV] C=0.5, kernel=linear, tol=1e-10 .................................\n",
      "[CV] ..... C=0.5, kernel=linear, tol=1e-10, score=0.989, total=   0.0s\n",
      "[CV] C=1, kernel=linear, tol=0.1 .....................................\n",
      "[CV] ......... C=1, kernel=linear, tol=0.1, score=0.959, total=   0.0s\n",
      "[CV] C=1, kernel=linear, tol=0.1 .....................................\n",
      "[CV] ......... C=1, kernel=linear, tol=0.1, score=0.948, total=   0.0s\n",
      "[CV] C=1, kernel=linear, tol=0.1 .....................................\n",
      "[CV] ......... C=1, kernel=linear, tol=0.1, score=0.979, total=   0.0s\n",
      "[CV] C=1, kernel=linear, tol=0.1 .....................................\n",
      "[CV] ......... C=1, kernel=linear, tol=0.1, score=0.937, total=   0.0s\n",
      "[CV] C=1, kernel=linear, tol=0.1 .....................................\n",
      "[CV] ......... C=1, kernel=linear, tol=0.1, score=0.989, total=   0.0s\n",
      "[CV] C=1, kernel=linear, tol=1e-10 ...................................\n",
      "[CV] ....... C=1, kernel=linear, tol=1e-10, score=0.959, total=   0.0s\n",
      "[CV] C=1, kernel=linear, tol=1e-10 ...................................\n",
      "[CV] ....... C=1, kernel=linear, tol=1e-10, score=0.938, total=   0.0s\n",
      "[CV] C=1, kernel=linear, tol=1e-10 ...................................\n",
      "[CV] ....... C=1, kernel=linear, tol=1e-10, score=0.979, total=   0.0s\n",
      "[CV] C=1, kernel=linear, tol=1e-10 ...................................\n",
      "[CV] ....... C=1, kernel=linear, tol=1e-10, score=0.937, total=   0.0s\n",
      "[CV] C=1, kernel=linear, tol=1e-10 ...................................\n",
      "[CV] ....... C=1, kernel=linear, tol=1e-10, score=0.989, total=   0.0s\n",
      "[CV] C=5, kernel=linear, tol=0.1 .....................................\n",
      "[CV] ......... C=5, kernel=linear, tol=0.1, score=0.959, total=   0.0s\n",
      "[CV] C=5, kernel=linear, tol=0.1 .....................................\n",
      "[CV] ......... C=5, kernel=linear, tol=0.1, score=0.938, total=   0.0s\n",
      "[CV] C=5, kernel=linear, tol=0.1 .....................................\n",
      "[CV] ......... C=5, kernel=linear, tol=0.1, score=0.979, total=   0.0s\n",
      "[CV] C=5, kernel=linear, tol=0.1 .....................................\n",
      "[CV] ......... C=5, kernel=linear, tol=0.1, score=0.937, total=   0.0s\n",
      "[CV] C=5, kernel=linear, tol=0.1 .....................................\n",
      "[CV] ......... C=5, kernel=linear, tol=0.1, score=0.989, total=   0.0s\n",
      "[CV] C=5, kernel=linear, tol=1e-10 ...................................\n",
      "[CV] ....... C=5, kernel=linear, tol=1e-10, score=0.959, total=   0.0s\n"
     ]
    },
    {
     "name": "stderr",
     "output_type": "stream",
     "text": [
      "[Parallel(n_jobs=1)]: Using backend SequentialBackend with 1 concurrent workers.\n",
      "[Parallel(n_jobs=1)]: Done   1 out of   1 | elapsed:    0.0s remaining:    0.0s\n",
      "[Parallel(n_jobs=1)]: Done   2 out of   2 | elapsed:    0.0s remaining:    0.0s\n",
      "[Parallel(n_jobs=1)]: Done   3 out of   3 | elapsed:    0.0s remaining:    0.0s\n",
      "[Parallel(n_jobs=1)]: Done   4 out of   4 | elapsed:    0.0s remaining:    0.0s\n",
      "[Parallel(n_jobs=1)]: Done   5 out of   5 | elapsed:    0.0s remaining:    0.0s\n",
      "[Parallel(n_jobs=1)]: Done   6 out of   6 | elapsed:    0.0s remaining:    0.0s\n",
      "[Parallel(n_jobs=1)]: Done   7 out of   7 | elapsed:    0.0s remaining:    0.0s\n",
      "[Parallel(n_jobs=1)]: Done   8 out of   8 | elapsed:    0.1s remaining:    0.0s\n",
      "[Parallel(n_jobs=1)]: Done   9 out of   9 | elapsed:    0.1s remaining:    0.0s\n"
     ]
    },
    {
     "name": "stdout",
     "output_type": "stream",
     "text": [
      "[CV] C=5, kernel=linear, tol=1e-10 ...................................\n",
      "[CV] ....... C=5, kernel=linear, tol=1e-10, score=0.938, total=   0.0s\n",
      "[CV] C=5, kernel=linear, tol=1e-10 ...................................\n",
      "[CV] ....... C=5, kernel=linear, tol=1e-10, score=0.979, total=   0.0s\n",
      "[CV] C=5, kernel=linear, tol=1e-10 ...................................\n",
      "[CV] ....... C=5, kernel=linear, tol=1e-10, score=0.937, total=   0.0s\n",
      "[CV] C=5, kernel=linear, tol=1e-10 ...................................\n",
      "[CV] ....... C=5, kernel=linear, tol=1e-10, score=0.989, total=   0.0s\n",
      "[CV] C=10, kernel=linear, tol=0.1 ....................................\n",
      "[CV] ........ C=10, kernel=linear, tol=0.1, score=0.959, total=   0.0s\n",
      "[CV] C=10, kernel=linear, tol=0.1 ....................................\n",
      "[CV] ........ C=10, kernel=linear, tol=0.1, score=0.938, total=   0.0s\n",
      "[CV] C=10, kernel=linear, tol=0.1 ....................................\n",
      "[CV] ........ C=10, kernel=linear, tol=0.1, score=0.979, total=   0.0s\n",
      "[CV] C=10, kernel=linear, tol=0.1 ....................................\n",
      "[CV] ........ C=10, kernel=linear, tol=0.1, score=0.926, total=   0.0s\n",
      "[CV] C=10, kernel=linear, tol=0.1 ....................................\n",
      "[CV] ........ C=10, kernel=linear, tol=0.1, score=0.989, total=   0.0s\n",
      "[CV] C=10, kernel=linear, tol=1e-10 ..................................\n",
      "[CV] ...... C=10, kernel=linear, tol=1e-10, score=0.959, total=   0.0s\n",
      "[CV] C=10, kernel=linear, tol=1e-10 ..................................\n",
      "[CV] ...... C=10, kernel=linear, tol=1e-10, score=0.938, total=   0.0s\n",
      "[CV] C=10, kernel=linear, tol=1e-10 ..................................\n",
      "[CV] ...... C=10, kernel=linear, tol=1e-10, score=0.979, total=   0.0s\n",
      "[CV] C=10, kernel=linear, tol=1e-10 ..................................\n",
      "[CV] ...... C=10, kernel=linear, tol=1e-10, score=0.937, total=   0.0s\n",
      "[CV] C=10, kernel=linear, tol=1e-10 ..................................\n",
      "[CV] ...... C=10, kernel=linear, tol=1e-10, score=0.989, total=   0.0s\n",
      "[CV] C=100, kernel=linear, tol=0.1 ...................................\n",
      "[CV] ....... C=100, kernel=linear, tol=0.1, score=0.959, total=   0.1s\n",
      "[CV] C=100, kernel=linear, tol=0.1 ...................................\n",
      "[CV] ....... C=100, kernel=linear, tol=0.1, score=0.938, total=   0.0s\n",
      "[CV] C=100, kernel=linear, tol=0.1 ...................................\n",
      "[CV] ....... C=100, kernel=linear, tol=0.1, score=0.979, total=   0.1s\n",
      "[CV] C=100, kernel=linear, tol=0.1 ...................................\n",
      "[CV] ....... C=100, kernel=linear, tol=0.1, score=0.926, total=   0.0s\n",
      "[CV] C=100, kernel=linear, tol=0.1 ...................................\n",
      "[CV] ....... C=100, kernel=linear, tol=0.1, score=0.989, total=   0.1s\n",
      "[CV] C=100, kernel=linear, tol=1e-10 .................................\n",
      "[CV] ..... C=100, kernel=linear, tol=1e-10, score=0.959, total=   0.1s\n",
      "[CV] C=100, kernel=linear, tol=1e-10 .................................\n",
      "[CV] ..... C=100, kernel=linear, tol=1e-10, score=0.938, total=   0.0s\n",
      "[CV] C=100, kernel=linear, tol=1e-10 .................................\n",
      "[CV] ..... C=100, kernel=linear, tol=1e-10, score=0.979, total=   0.2s\n",
      "[CV] C=100, kernel=linear, tol=1e-10 .................................\n",
      "[CV] ..... C=100, kernel=linear, tol=1e-10, score=0.937, total=   0.1s\n",
      "[CV] C=100, kernel=linear, tol=1e-10 .................................\n",
      "[CV] ..... C=100, kernel=linear, tol=1e-10, score=0.989, total=   0.1s\n",
      "[CV] C=1000, kernel=linear, tol=0.1 ..................................\n",
      "[CV] ...... C=1000, kernel=linear, tol=0.1, score=0.959, total=   0.6s\n",
      "[CV] C=1000, kernel=linear, tol=0.1 ..................................\n",
      "[CV] ...... C=1000, kernel=linear, tol=0.1, score=0.938, total=   0.3s\n",
      "[CV] C=1000, kernel=linear, tol=0.1 ..................................\n",
      "[CV] ...... C=1000, kernel=linear, tol=0.1, score=0.979, total=   0.5s\n",
      "[CV] C=1000, kernel=linear, tol=0.1 ..................................\n",
      "[CV] ...... C=1000, kernel=linear, tol=0.1, score=0.926, total=   0.3s\n",
      "[CV] C=1000, kernel=linear, tol=0.1 ..................................\n",
      "[CV] ...... C=1000, kernel=linear, tol=0.1, score=0.989, total=   0.5s\n",
      "[CV] C=1000, kernel=linear, tol=1e-10 ................................\n",
      "[CV] .... C=1000, kernel=linear, tol=1e-10, score=0.959, total=   0.9s\n",
      "[CV] C=1000, kernel=linear, tol=1e-10 ................................\n",
      "[CV] .... C=1000, kernel=linear, tol=1e-10, score=0.938, total=   0.3s\n",
      "[CV] C=1000, kernel=linear, tol=1e-10 ................................\n",
      "[CV] .... C=1000, kernel=linear, tol=1e-10, score=0.979, total=   0.9s\n",
      "[CV] C=1000, kernel=linear, tol=1e-10 ................................\n",
      "[CV] .... C=1000, kernel=linear, tol=1e-10, score=0.937, total=   1.1s\n",
      "[CV] C=1000, kernel=linear, tol=1e-10 ................................\n",
      "[CV] .... C=1000, kernel=linear, tol=1e-10, score=0.989, total=  11.3s\n",
      "[CV] C=0.5, gamma=0.001, kernel=rbf ..................................\n",
      "[CV] ...... C=0.5, gamma=0.001, kernel=rbf, score=0.969, total=   0.0s\n",
      "[CV] C=0.5, gamma=0.001, kernel=rbf ..................................\n",
      "[CV] ...... C=0.5, gamma=0.001, kernel=rbf, score=0.969, total=   0.0s\n",
      "[CV] C=0.5, gamma=0.001, kernel=rbf ..................................\n",
      "[CV] ...... C=0.5, gamma=0.001, kernel=rbf, score=1.000, total=   0.0s\n",
      "[CV] C=0.5, gamma=0.001, kernel=rbf ..................................\n",
      "[CV] ...... C=0.5, gamma=0.001, kernel=rbf, score=0.937, total=   0.0s\n",
      "[CV] C=0.5, gamma=0.001, kernel=rbf ..................................\n",
      "[CV] ...... C=0.5, gamma=0.001, kernel=rbf, score=0.989, total=   0.0s\n",
      "[CV] C=0.5, gamma=0.0001, kernel=rbf .................................\n",
      "[CV] ..... C=0.5, gamma=0.0001, kernel=rbf, score=0.969, total=   0.0s\n",
      "[CV] C=0.5, gamma=0.0001, kernel=rbf .................................\n",
      "[CV] ..... C=0.5, gamma=0.0001, kernel=rbf, score=0.958, total=   0.0s\n",
      "[CV] C=0.5, gamma=0.0001, kernel=rbf .................................\n",
      "[CV] ..... C=0.5, gamma=0.0001, kernel=rbf, score=0.979, total=   0.0s\n",
      "[CV] C=0.5, gamma=0.0001, kernel=rbf .................................\n",
      "[CV] ..... C=0.5, gamma=0.0001, kernel=rbf, score=0.916, total=   0.0s\n",
      "[CV] C=0.5, gamma=0.0001, kernel=rbf .................................\n",
      "[CV] ..... C=0.5, gamma=0.0001, kernel=rbf, score=0.968, total=   0.0s\n",
      "[CV] C=1, gamma=0.001, kernel=rbf ....................................\n",
      "[CV] ........ C=1, gamma=0.001, kernel=rbf, score=0.969, total=   0.0s\n",
      "[CV] C=1, gamma=0.001, kernel=rbf ....................................\n",
      "[CV] ........ C=1, gamma=0.001, kernel=rbf, score=0.969, total=   0.0s\n",
      "[CV] C=1, gamma=0.001, kernel=rbf ....................................\n",
      "[CV] ........ C=1, gamma=0.001, kernel=rbf, score=1.000, total=   0.0s\n",
      "[CV] C=1, gamma=0.001, kernel=rbf ....................................\n",
      "[CV] ........ C=1, gamma=0.001, kernel=rbf, score=0.937, total=   0.0s\n",
      "[CV] C=1, gamma=0.001, kernel=rbf ....................................\n",
      "[CV] ........ C=1, gamma=0.001, kernel=rbf, score=0.989, total=   0.0s\n",
      "[CV] C=1, gamma=0.0001, kernel=rbf ...................................\n",
      "[CV] ....... C=1, gamma=0.0001, kernel=rbf, score=0.959, total=   0.0s\n",
      "[CV] C=1, gamma=0.0001, kernel=rbf ...................................\n",
      "[CV] ....... C=1, gamma=0.0001, kernel=rbf, score=0.969, total=   0.0s\n",
      "[CV] C=1, gamma=0.0001, kernel=rbf ...................................\n",
      "[CV] ....... C=1, gamma=0.0001, kernel=rbf, score=0.989, total=   0.0s\n",
      "[CV] C=1, gamma=0.0001, kernel=rbf ...................................\n",
      "[CV] ....... C=1, gamma=0.0001, kernel=rbf, score=0.937, total=   0.0s\n",
      "[CV] C=1, gamma=0.0001, kernel=rbf ...................................\n",
      "[CV] ....... C=1, gamma=0.0001, kernel=rbf, score=0.979, total=   0.0s\n",
      "[CV] C=5, gamma=0.001, kernel=rbf ....................................\n",
      "[CV] ........ C=5, gamma=0.001, kernel=rbf, score=0.969, total=   0.0s\n",
      "[CV] C=5, gamma=0.001, kernel=rbf ....................................\n",
      "[CV] ........ C=5, gamma=0.001, kernel=rbf, score=0.979, total=   0.0s\n",
      "[CV] C=5, gamma=0.001, kernel=rbf ....................................\n",
      "[CV] ........ C=5, gamma=0.001, kernel=rbf, score=0.989, total=   0.0s\n",
      "[CV] C=5, gamma=0.001, kernel=rbf ....................................\n",
      "[CV] ........ C=5, gamma=0.001, kernel=rbf, score=0.947, total=   0.0s\n",
      "[CV] C=5, gamma=0.001, kernel=rbf ....................................\n",
      "[CV] ........ C=5, gamma=0.001, kernel=rbf, score=0.989, total=   0.0s\n",
      "[CV] C=5, gamma=0.0001, kernel=rbf ...................................\n",
      "[CV] ....... C=5, gamma=0.0001, kernel=rbf, score=0.969, total=   0.0s\n",
      "[CV] C=5, gamma=0.0001, kernel=rbf ...................................\n",
      "[CV] ....... C=5, gamma=0.0001, kernel=rbf, score=0.969, total=   0.0s\n",
      "[CV] C=5, gamma=0.0001, kernel=rbf ...................................\n",
      "[CV] ....... C=5, gamma=0.0001, kernel=rbf, score=1.000, total=   0.0s\n",
      "[CV] C=5, gamma=0.0001, kernel=rbf ...................................\n",
      "[CV] ....... C=5, gamma=0.0001, kernel=rbf, score=0.937, total=   0.0s\n",
      "[CV] C=5, gamma=0.0001, kernel=rbf ...................................\n",
      "[CV] ....... C=5, gamma=0.0001, kernel=rbf, score=0.989, total=   0.0s\n",
      "[CV] C=10, gamma=0.001, kernel=rbf ...................................\n",
      "[CV] ....... C=10, gamma=0.001, kernel=rbf, score=0.959, total=   0.0s\n",
      "[CV] C=10, gamma=0.001, kernel=rbf ...................................\n",
      "[CV] ....... C=10, gamma=0.001, kernel=rbf, score=0.979, total=   0.0s\n",
      "[CV] C=10, gamma=0.001, kernel=rbf ...................................\n",
      "[CV] ....... C=10, gamma=0.001, kernel=rbf, score=0.989, total=   0.0s\n",
      "[CV] C=10, gamma=0.001, kernel=rbf ...................................\n",
      "[CV] ....... C=10, gamma=0.001, kernel=rbf, score=0.937, total=   0.0s\n",
      "[CV] C=10, gamma=0.001, kernel=rbf ...................................\n",
      "[CV] ....... C=10, gamma=0.001, kernel=rbf, score=0.989, total=   0.0s\n",
      "[CV] C=10, gamma=0.0001, kernel=rbf ..................................\n",
      "[CV] ...... C=10, gamma=0.0001, kernel=rbf, score=0.969, total=   0.0s\n",
      "[CV] C=10, gamma=0.0001, kernel=rbf ..................................\n",
      "[CV] ...... C=10, gamma=0.0001, kernel=rbf, score=0.969, total=   0.0s\n",
      "[CV] C=10, gamma=0.0001, kernel=rbf ..................................\n",
      "[CV] ...... C=10, gamma=0.0001, kernel=rbf, score=1.000, total=   0.0s\n",
      "[CV] C=10, gamma=0.0001, kernel=rbf ..................................\n",
      "[CV] ...... C=10, gamma=0.0001, kernel=rbf, score=0.937, total=   0.0s\n",
      "[CV] C=10, gamma=0.0001, kernel=rbf ..................................\n",
      "[CV] ...... C=10, gamma=0.0001, kernel=rbf, score=0.989, total=   0.0s\n",
      "[CV] C=100, gamma=0.001, kernel=rbf ..................................\n",
      "[CV] ...... C=100, gamma=0.001, kernel=rbf, score=0.959, total=   0.0s\n",
      "[CV] C=100, gamma=0.001, kernel=rbf ..................................\n",
      "[CV] ...... C=100, gamma=0.001, kernel=rbf, score=0.958, total=   0.0s\n",
      "[CV] C=100, gamma=0.001, kernel=rbf ..................................\n",
      "[CV] ...... C=100, gamma=0.001, kernel=rbf, score=0.968, total=   0.0s\n",
      "[CV] C=100, gamma=0.001, kernel=rbf ..................................\n",
      "[CV] ...... C=100, gamma=0.001, kernel=rbf, score=0.947, total=   0.0s\n",
      "[CV] C=100, gamma=0.001, kernel=rbf ..................................\n",
      "[CV] ...... C=100, gamma=0.001, kernel=rbf, score=0.989, total=   0.0s\n",
      "[CV] C=100, gamma=0.0001, kernel=rbf .................................\n",
      "[CV] ..... C=100, gamma=0.0001, kernel=rbf, score=0.969, total=   0.0s\n",
      "[CV] C=100, gamma=0.0001, kernel=rbf .................................\n",
      "[CV] ..... C=100, gamma=0.0001, kernel=rbf, score=0.979, total=   0.0s\n",
      "[CV] C=100, gamma=0.0001, kernel=rbf .................................\n",
      "[CV] ..... C=100, gamma=0.0001, kernel=rbf, score=0.989, total=   0.0s\n",
      "[CV] C=100, gamma=0.0001, kernel=rbf .................................\n",
      "[CV] ..... C=100, gamma=0.0001, kernel=rbf, score=0.947, total=   0.0s\n",
      "[CV] C=100, gamma=0.0001, kernel=rbf .................................\n",
      "[CV] ..... C=100, gamma=0.0001, kernel=rbf, score=0.989, total=   0.0s\n",
      "[CV] C=1000, gamma=0.001, kernel=rbf .................................\n",
      "[CV] ..... C=1000, gamma=0.001, kernel=rbf, score=0.938, total=   0.0s\n",
      "[CV] C=1000, gamma=0.001, kernel=rbf .................................\n",
      "[CV] ..... C=1000, gamma=0.001, kernel=rbf, score=0.938, total=   0.0s\n",
      "[CV] C=1000, gamma=0.001, kernel=rbf .................................\n",
      "[CV] ..... C=1000, gamma=0.001, kernel=rbf, score=0.958, total=   0.0s\n",
      "[CV] C=1000, gamma=0.001, kernel=rbf .................................\n",
      "[CV] ..... C=1000, gamma=0.001, kernel=rbf, score=0.937, total=   0.0s\n",
      "[CV] C=1000, gamma=0.001, kernel=rbf .................................\n",
      "[CV] ..... C=1000, gamma=0.001, kernel=rbf, score=0.968, total=   0.0s\n",
      "[CV] C=1000, gamma=0.0001, kernel=rbf ................................\n",
      "[CV] .... C=1000, gamma=0.0001, kernel=rbf, score=0.959, total=   0.0s\n",
      "[CV] C=1000, gamma=0.0001, kernel=rbf ................................\n",
      "[CV] .... C=1000, gamma=0.0001, kernel=rbf, score=0.958, total=   0.0s\n",
      "[CV] C=1000, gamma=0.0001, kernel=rbf ................................\n",
      "[CV] .... C=1000, gamma=0.0001, kernel=rbf, score=0.979, total=   0.0s\n",
      "[CV] C=1000, gamma=0.0001, kernel=rbf ................................\n",
      "[CV] .... C=1000, gamma=0.0001, kernel=rbf, score=0.947, total=   0.0s\n",
      "[CV] C=1000, gamma=0.0001, kernel=rbf ................................\n",
      "[CV] .... C=1000, gamma=0.0001, kernel=rbf, score=0.989, total=   0.0s\n",
      "The accuracy of the best SVC is: 0.951220\n",
      "The recall of the best SVC is: 0.940844\n",
      "The precision of the best SVC is: 0.956036\n"
     ]
    },
    {
     "name": "stderr",
     "output_type": "stream",
     "text": [
      "[Parallel(n_jobs=1)]: Done 120 out of 120 | elapsed:   18.3s finished\n"
     ]
    }
   ],
   "source": [
    "from sklearn.model_selection import GridSearchCV\n",
    "from sklearn.svm import SVC\n",
    "\n",
    "svc = SVC()\n",
    "param_grid = [\n",
    "  {'C': [0.5, 1, 5, 10, 100, 1000],\"tol\":[10**-1, 10**-10], 'kernel': ['linear']},\n",
    "  {'C': [0.5, 1, 5, 10, 100, 1000], 'gamma': [0.001, 0.0001], 'kernel': ['rbf']},\n",
    " ]\n",
    "\n",
    "SVC_clf = GridSearchCV(svc,\n",
    "                    param_grid=param_grid,\n",
    "                    cv = StratifiedKFold(n_splits=5, shuffle=True, random_state=42),\n",
    "                    verbose=10)\n",
    "\n",
    "SVC_clf = SVC_clf.fit(features_train, labels_train)\n",
    "# print (SVC_clf.best_estimator_)\n",
    "SVC_pred = SVC_clf.predict(features_test)\n",
    "accuracy = accuracy_score(labels_test, SVC_pred)\n",
    "recall = recall_score (labels_test, SVC_pred, average = 'macro')\n",
    "precision = precision_score(labels_test, SVC_pred, average = 'macro')\n",
    "print (\"The accuracy of the best SVC is: %f\" % (accuracy))\n",
    "print (\"The recall of the best SVC is: %f\" % (recall))\n",
    "print (\"The precision of the best SVC is: %f\" % (precision))"
   ]
  },
  {
   "cell_type": "markdown",
   "metadata": {
    "colab_type": "text",
    "id": "hQGgFkBEcXoC"
   },
   "source": [
    "# Conclusions \n",
    "\n",
    "**The best classifier is KNN in this project. **"
   ]
  }
 ],
 "metadata": {
  "colab": {
   "collapsed_sections": [],
   "name": "data_challenge1.ipynb",
   "provenance": [],
   "toc_visible": true,
   "version": "0.3.2"
  },
  "kernelspec": {
   "display_name": "Python 3",
   "language": "python",
   "name": "python3"
  },
  "language_info": {
   "codemirror_mode": {
    "name": "ipython",
    "version": 3
   },
   "file_extension": ".py",
   "mimetype": "text/x-python",
   "name": "python",
   "nbconvert_exporter": "python",
   "pygments_lexer": "ipython3",
   "version": "3.6.7"
  }
 },
 "nbformat": 4,
 "nbformat_minor": 1
}
